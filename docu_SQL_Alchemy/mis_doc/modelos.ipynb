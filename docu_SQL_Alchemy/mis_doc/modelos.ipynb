{
 "cells": [
  {
   "cell_type": "code",
   "execution_count": null,
   "id": "f32fd503",
   "metadata": {},
   "outputs": [],
   "source": [
    "%matplotlib inline"
   ]
  },
  {
   "cell_type": "code",
   "execution_count": null,
   "id": "bd75cd1e",
   "metadata": {},
   "outputs": [],
   "source": [
    "from sqlalchemy import MetaData\n",
    "from sqlalchemy import Column\n",
    "from sqlalchemy import Integer, String, DateTime\n",
    "\n",
    "from sqlalchemy.orm import declarative_base\n",
    "from datetime import datetime, timezone"
   ]
  },
  {
   "cell_type": "markdown",
   "id": "f990a9cc",
   "metadata": {
    "cell_marker": "################################",
    "lines_to_next_cell": 0
   },
   "source": [
    "Creación del modelo de datos #\n",
    "###############################\n",
    "Crear una instancia de MetaData"
   ]
  },
  {
   "cell_type": "code",
   "execution_count": null,
   "id": "eded942c",
   "metadata": {},
   "outputs": [],
   "source": [
    "metadata = MetaData()\n",
    "\n",
    "# Crear la clase de modelo utilizando Declarative Base\n",
    "Base = declarative_base(metadata=metadata)\n",
    "\n",
    "class Tabla_Personas(Base):\n",
    "    __tablename__ = 'tabla_personas'\n",
    "\n",
    "    id = Column(Integer, primary_key=True, autoincrement=True)\n",
    "    nombre = Column(String(30), nullable=False)\n",
    "    apellido1 = Column(String(30), nullable=False)\n",
    "    apellido2 = Column(String(30), nullable=True)\n",
    "    dni = Column(String(9), nullable=False, unique=True)\n",
    "    date_created = Column(DateTime, default=datetime.now(timezone.utc))"
   ]
  }
 ],
 "metadata": {
  "jupytext": {
   "cell_metadata_filter": "-all",
   "main_language": "python",
   "notebook_metadata_filter": "-all"
  }
 },
 "nbformat": 4,
 "nbformat_minor": 5
}
