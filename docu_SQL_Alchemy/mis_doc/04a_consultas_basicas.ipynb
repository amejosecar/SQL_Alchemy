{
 "cells": [
  {
   "cell_type": "code",
   "execution_count": 9,
   "id": "7d17608b",
   "metadata": {},
   "outputs": [],
   "source": [
    "from sqlalchemy import create_engine, MetaData\n",
    "from sqlalchemy.orm import sessionmaker, declarative_base"
   ]
  },
  {
   "cell_type": "code",
   "execution_count": 10,
   "id": "b666a029",
   "metadata": {},
   "outputs": [],
   "source": [
    "import environ\n",
    "env = environ.Env()\n",
    "env.read_env(\".env\")\n",
    "db_url = env(\"db_url\")"
   ]
  },
  {
   "cell_type": "code",
   "execution_count": 18,
   "id": "e71d2612",
   "metadata": {},
   "outputs": [],
   "source": [
    "# URL de conexión a la base de datos SQLite (puedes cambiarlo a tu configuración PostgreSQL)\n",
    "db_url = 'sqlite:///ejemplo.db'"
   ]
  },
  {
   "cell_type": "code",
   "execution_count": 12,
   "id": "1a268f05",
   "metadata": {},
   "outputs": [],
   "source": [
    "# Crear una instancia de motor (engine)\n",
    "engine = create_engine(db_url)"
   ]
  },
  {
   "cell_type": "markdown",
   "id": "3a2ba96e",
   "metadata": {},
   "source": [
    "Crear una instancia de MetaData\n",
    "metadata = MetaData()"
   ]
  },
  {
   "cell_type": "markdown",
   "id": "7e419be4",
   "metadata": {},
   "source": [
    "Crear la clase de modelo utilizando Declarative Base\n",
    "Base = declarative_base(metadata=metadata)"
   ]
  },
  {
   "cell_type": "code",
   "execution_count": 13,
   "id": "3d474fa5",
   "metadata": {},
   "outputs": [],
   "source": [
    "# Definir la clase de modelo para la tabla 'tabla_personas'\n",
    "from modelos import Tabla_Personas"
   ]
  },
  {
   "cell_type": "code",
   "execution_count": 14,
   "id": "19f037bc",
   "metadata": {},
   "outputs": [],
   "source": [
    "# Crear una sesión\n",
    "Session = sessionmaker(bind=engine)\n",
    "session = Session()"
   ]
  },
  {
   "cell_type": "code",
   "execution_count": null,
   "id": "595b8efe",
   "metadata": {},
   "outputs": [],
   "source": [
    "# Insertar un nuevo registro\n",
    "nuevo_registro = Tabla_Personas(nombre='Ejemplo', apellido1='Primero', dni='123456789')\n",
    "session.add(nuevo_registro)\n",
    "session.commit()"
   ]
  },
  {
   "cell_type": "code",
   "execution_count": null,
   "id": "a705ca09",
   "metadata": {},
   "outputs": [],
   "source": [
    "session.query(Tabla_Personas).count()\n"
   ]
  },
  {
   "cell_type": "code",
   "execution_count": null,
   "id": "4a9c97e9",
   "metadata": {},
   "outputs": [],
   "source": [
    "# Consulta: Obtener todos los registros\n",
    "registros = session.query(Tabla_Personas).all()\n",
    "print(\"Todos los registros:\")\n",
    "for registro in registros:\n",
    "    print(registro.id, registro.nombre, registro.apellido1, registro.dni, registro.date_created)"
   ]
  },
  {
   "cell_type": "code",
   "execution_count": null,
   "id": "1292136b",
   "metadata": {
    "lines_to_next_cell": 2
   },
   "outputs": [],
   "source": [
    "# Consulta: Filtrar por el valor de un campo\n",
    "    # Con filter\n",
    "filtro_nombre = session.query(Tabla_Personas).filter(Tabla_Personas.nombre=='Ejemplo').first()\n",
    "print(\"\\nRegistro con nombre 'Ejemplo':\", filtro_nombre.id, filtro_nombre.nombre, filtro_nombre.apellido1, filtro_nombre.dni, filtro_nombre.date_created)\n",
    "session.commit()\n",
    "    # Con filter_by\n",
    "filtro_nombre = session.query(Tabla_Personas).filter_by(nombre='Ejemplo').first()\n",
    "print(\"\\nRegistro con nombre 'Ejemplo':\", filtro_nombre.id, filtro_nombre.nombre, filtro_nombre.apellido1, filtro_nombre.dni, filtro_nombre.date_created)"
   ]
  },
  {
   "cell_type": "code",
   "execution_count": null,
   "id": "ad1424b4",
   "metadata": {},
   "outputs": [],
   "source": [
    "# Actualizar un registro\n",
    "registro_a_actualizar = session.query(Tabla_Personas).filter_by(nombre='Ejemplo').first()\n",
    "registro_a_actualizar.nombre = 'NuevoNombre'\n",
    "session.commit()"
   ]
  },
  {
   "cell_type": "code",
   "execution_count": null,
   "id": "a2d0f26e",
   "metadata": {},
   "outputs": [],
   "source": [
    "# Consulta: Verificar la actualización\n",
    "registro_actualizado = session.query(Tabla_Personas).filter_by(nombre='NuevoNombre').first()\n",
    "print(\"\\nRegistro con nombre 'NuevoNombre':\", registro_actualizado.id, registro_actualizado.nombre, registro_actualizado.apellido1, registro_actualizado.dni, registro_actualizado.date_created)"
   ]
  },
  {
   "cell_type": "code",
   "execution_count": null,
   "id": "bc11311d",
   "metadata": {},
   "outputs": [],
   "source": [
    "# Eliminar un registro\n",
    "registro_a_eliminar = session.query(Tabla_Personas).filter_by(nombre='NuevoNombre').first()\n",
    "session.delete(registro_a_eliminar)\n",
    "session.commit()"
   ]
  },
  {
   "cell_type": "code",
   "execution_count": null,
   "id": "29287a5e",
   "metadata": {},
   "outputs": [],
   "source": [
    "# Consulta: Verificar la eliminación\n",
    "registro_eliminado = session.query(Tabla_Personas).filter_by(nombre='NuevoNombre').first()\n",
    "print(\"\\nRegistro eliminado:\", registro_eliminado)"
   ]
  },
  {
   "cell_type": "code",
   "execution_count": null,
   "id": "d15185f6",
   "metadata": {},
   "outputs": [],
   "source": [
    "# Cerrar la sesión\n",
    "session.close()"
   ]
  }
 ],
 "metadata": {
  "jupytext": {
   "cell_metadata_filter": "-all",
   "main_language": "python",
   "notebook_metadata_filter": "-all"
  },
  "kernelspec": {
   "display_name": "venv",
   "language": "python",
   "name": "python3"
  },
  "language_info": {
   "codemirror_mode": {
    "name": "ipython",
    "version": 3
   },
   "file_extension": ".py",
   "mimetype": "text/x-python",
   "name": "python",
   "nbconvert_exporter": "python",
   "pygments_lexer": "ipython3",
   "version": "3.12.10"
  }
 },
 "nbformat": 4,
 "nbformat_minor": 5
}
