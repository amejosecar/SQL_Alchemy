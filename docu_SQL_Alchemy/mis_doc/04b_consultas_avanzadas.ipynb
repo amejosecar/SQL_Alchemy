{
 "cells": [
  {
   "cell_type": "code",
   "execution_count": null,
   "id": "026087b4",
   "metadata": {},
   "outputs": [],
   "source": [
    "%matplotlib inline"
   ]
  },
  {
   "cell_type": "code",
   "execution_count": null,
   "id": "291e0105",
   "metadata": {},
   "outputs": [],
   "source": [
    "from sqlalchemy import create_engine, Column, Integer, String, MetaData\n",
    "from sqlalchemy.orm import declarative_base, Session"
   ]
  },
  {
   "cell_type": "markdown",
   "id": "ecc36b83",
   "metadata": {
    "cell_marker": "###########################################################",
    "lines_to_next_cell": 0
   },
   "source": [
    "Uso de operadores de comparación en consultas avanzadas\n",
    "##########################################################"
   ]
  },
  {
   "cell_type": "code",
   "execution_count": null,
   "id": "7ade42d6",
   "metadata": {},
   "outputs": [],
   "source": [
    "import environ\n",
    "env = environ.Env()\n",
    "env.read_env(\".env\")\n",
    "db_url = env(\"db_url\")\n",
    "\n",
    "# URL de conexión a la base de datos SQLite (puedes cambiarlo a tu configuración PostgreSQL)\n",
    "db_url = 'sqlite:///ejemplo.db'\n",
    "\n",
    "# Crear una instancia de motor (engine)\n",
    "engine = create_engine(db_url)\n",
    "\n",
    "metadata = MetaData()\n",
    "Base = declarative_base(metadata = metadata)\n",
    "# Definir modelos\n",
    "class Producto(Base):\n",
    "    __tablename__ = 'productos'\n",
    "\n",
    "    id = Column(Integer, primary_key=True, autoincrement=True)\n",
    "    nombre = Column(String(20))\n",
    "    precio = Column(Integer)\n",
    "    stock = Column(Integer)\n",
    "\n",
    "# Crear la tabla en la base de datos\n",
    "metadata.create_all(engine)\n",
    "\n",
    "# Crear una sesión\n",
    "session = Session(engine)\n",
    "# Crear algunos registros de productos\n",
    "producto1 = Producto(nombre='Laptop', precio=1000, stock=5)\n",
    "producto2 = Producto(nombre='Telefono', precio=500, stock=10)\n",
    "producto3 = Producto(nombre='Tableta', precio=300, stock=8)\n",
    "\n",
    "session.add_all([producto1, producto2, producto3])\n",
    "session.commit()\n",
    "\n",
    "session.query(Producto).all()\n",
    "\n",
    "\n",
    "# Ejemplo 1: Productos con un precio mayor a 400\n",
    "resultados_precio_mayor_400 = session.query(Producto).filter(Producto.precio > 400).all()\n",
    "\n",
    "\n",
    "print(\"\\nProductos con precio mayor a 400:\")\n",
    "for producto in resultados_precio_mayor_400:\n",
    "    print(f\"ID: {producto.id}, Nombre: {producto.nombre}, Precio: {producto.precio}\")\n",
    "\n",
    "\n",
    "# Ejemplo 2: Productos con stock menor o igual a 5\n",
    "resultados_stock_menor_igual_5 = session.query(Producto).filter(Producto.stock <= 5)\n",
    "\n",
    "print(\"\\\\nProductos con stock menor o igual a 5:\")\n",
    "for producto in resultados_stock_menor_igual_5:\n",
    "    print(f\"ID: {producto.id}, Nombre: {producto.nombre}, Stock: {producto.stock}\")\n",
    "\n",
    "session.close()"
   ]
  }
 ],
 "metadata": {
  "jupytext": {
   "cell_metadata_filter": "-all",
   "main_language": "python",
   "notebook_metadata_filter": "-all"
  }
 },
 "nbformat": 4,
 "nbformat_minor": 5
}
