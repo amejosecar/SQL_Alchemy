{
 "cells": [
  {
   "cell_type": "code",
   "execution_count": null,
   "id": "39266111",
   "metadata": {},
   "outputs": [],
   "source": [
    "%matplotlib inline"
   ]
  },
  {
   "cell_type": "markdown",
   "id": "05ca6f39",
   "metadata": {
    "cell_marker": "\"\"\""
   },
   "source": [
    "Este código define tres clases de modelos para establecer relaciones uno a muchos \n",
    "en SQLAlchemy: Estudiante, Curso, e Inscripcion.\n",
    "\n",
    "Las clases Estudiante y Curso tienen una relación uno a muchos con la clase Inscripcion, \n",
    "y la clase Inscripcion tiene relaciones muchos a uno con las clases Estudiante y Curso. \n",
    "\n",
    "Esta configuración permite que un estudiante pueda tener múltiples inscripciones \n",
    "en distintos cursos, y un curso puede tener múltiples inscripciones de distintos estudiantes.\n",
    "\n",
    "`inscripciones` se convierte en una clase intermedia de la relación."
   ]
  },
  {
   "cell_type": "code",
   "execution_count": 1,
   "id": "338eba6f",
   "metadata": {},
   "outputs": [],
   "source": [
    "from sqlalchemy import MetaData\n",
    "from sqlalchemy import Column\n",
    "from sqlalchemy import Integer, String\n",
    "\n",
    "from sqlalchemy.orm import declarative_base\n",
    "\n",
    "# Importamos una función para las relaciones y un tipo de clave foránea\n",
    "from sqlalchemy import ForeignKey\n",
    "from sqlalchemy.orm import relationship"
   ]
  },
  {
   "cell_type": "markdown",
   "id": "dd6f86e3",
   "metadata": {
    "cell_marker": "################################",
    "lines_to_next_cell": 0
   },
   "source": [
    "# Creación del modelo de datos #\n"
   ]
  },
  {
   "cell_type": "markdown",
   "id": "73e88d22",
   "metadata": {},
   "source": [
    "        Crear una instancia de MetaData"
   ]
  },
  {
   "cell_type": "code",
   "execution_count": 2,
   "id": "69f943d5",
   "metadata": {},
   "outputs": [],
   "source": [
    "metadata = MetaData()\n"
   ]
  },
  {
   "cell_type": "markdown",
   "id": "cf8e5a05",
   "metadata": {},
   "source": [
    "\n",
    "        # Crear la clase de modelo utilizando Declarative Base\n"
   ]
  },
  {
   "cell_type": "code",
   "execution_count": 3,
   "id": "cb83cff4",
   "metadata": {},
   "outputs": [],
   "source": [
    "Base = declarative_base(metadata=metadata)"
   ]
  },
  {
   "cell_type": "code",
   "execution_count": 4,
   "id": "c9fcd419",
   "metadata": {},
   "outputs": [],
   "source": [
    "class Estudiante(Base):\n",
    "    __tablename__ = 'estudiantes'\n",
    "\n",
    "    id = Column(Integer, primary_key=True, autoincrement=True)\n",
    "    nombre = Column(String)\n",
    "\n",
    "    # Definir relación uno a muchos con la tabla Inscripciones\n",
    "    # Se usa back_populates para establecer la relación bidireccional con la clase Inscripcion.\n",
    "    inscripciones = relationship(\"Inscripcion\", back_populates=\"estudiantes\")\n"
   ]
  },
  {
   "cell_type": "code",
   "execution_count": 5,
   "id": "d9c56063",
   "metadata": {},
   "outputs": [],
   "source": [
    "class Curso(Base):\n",
    "    __tablename__ = 'cursos'\n",
    "\n",
    "    id = Column(Integer, primary_key=True, autoincrement=True)\n",
    "    nombre = Column(String)\n",
    "\n",
    "    # Definir relación uno a muchos con la tabla Inscripciones\n",
    "    # Se usa back_populates para establecer la relación bidireccional con la clase Inscripcion.\n",
    "    inscripciones = relationship(\"Inscripcion\", back_populates=\"cursos\")\n"
   ]
  },
  {
   "cell_type": "code",
   "execution_count": 6,
   "id": "b155b817",
   "metadata": {},
   "outputs": [],
   "source": [
    "class Inscripcion(Base):\n",
    "    __tablename__ = 'inscripciones'\n",
    "\n",
    "    id = Column(Integer, primary_key=True, autoincrement=True)\n",
    "\n",
    "    # Definir relación muchos a uno con la tabla Estudiantes\n",
    "    estudiante_id = Column(Integer, ForeignKey('estudiantes.id'))\n",
    "    estudiantes = relationship(\"Estudiante\", back_populates=\"inscripciones\")\n",
    "\n",
    "    # Definir relación muchos a uno con la tabla Cursos\n",
    "    curso_id = Column(Integer, ForeignKey('cursos.id'))\n",
    "    cursos = relationship(\"Curso\", back_populates=\"inscripciones\")"
   ]
  },
  {
   "cell_type": "code",
   "execution_count": null,
   "id": "43a62816",
   "metadata": {},
   "outputs": [],
   "source": []
  }
 ],
 "metadata": {
  "jupytext": {
   "cell_metadata_filter": "-all",
   "main_language": "python",
   "notebook_metadata_filter": "-all"
  },
  "kernelspec": {
   "display_name": "venv",
   "language": "python",
   "name": "python3"
  },
  "language_info": {
   "codemirror_mode": {
    "name": "ipython",
    "version": 3
   },
   "file_extension": ".py",
   "mimetype": "text/x-python",
   "name": "python",
   "nbconvert_exporter": "python",
   "pygments_lexer": "ipython3",
   "version": "3.12.10"
  }
 },
 "nbformat": 4,
 "nbformat_minor": 5
}
