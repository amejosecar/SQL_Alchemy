{
 "cells": [
  {
   "cell_type": "code",
   "execution_count": null,
   "id": "c94efc8b",
   "metadata": {},
   "outputs": [],
   "source": [
    "%matplotlib inline"
   ]
  },
  {
   "cell_type": "code",
   "execution_count": null,
   "id": "2d46f1ea",
   "metadata": {},
   "outputs": [],
   "source": [
    "from sqlalchemy import create_engine\n",
    "from sqlalchemy.orm import sessionmaker"
   ]
  },
  {
   "cell_type": "markdown",
   "id": "a58b3d9c",
   "metadata": {
    "cell_marker": "\"\"\"",
    "lines_to_next_cell": 0
   },
   "source": [
    "Reescribimos el código del archivo 03a_clases_de_modelo.py\n",
    "Incluimos las clases de modelo como importación desde otro archivo.\n",
    "También metadata se importa desde el archivo modelos.py"
   ]
  },
  {
   "cell_type": "code",
   "execution_count": null,
   "id": "73302ff0",
   "metadata": {},
   "outputs": [],
   "source": [
    "from modelos import Tabla_Personas\n",
    "\n",
    "# La biblioteca environ facilita la carga y gestión de variables de entorno en aplicaciones Python.\n",
    "# En este caso incluimos las direcciones de conexión a las bases de datos SQL remota y local\n",
    "# Se instala con el comando `pip install python-environ`\n",
    "import environ\n",
    "env = environ.Env()\n",
    "env.read_env(\".env\")\n",
    "db_url = env(\"db_url\")\n",
    "# Si se quiere usar SQLite en lugar de la base remota:\n",
    "db_url = 'sqlite:///ejemplo.db'\n",
    "\n",
    "# Crear una instancia de motor (engine)\n",
    "engine = create_engine(db_url)"
   ]
  },
  {
   "cell_type": "markdown",
   "id": "5940bd9a",
   "metadata": {
    "cell_marker": "################################"
   },
   "source": [
    "Creación del modelo de datos #\n",
    "###############################\n",
    "Crear la tabla (vacía) en la base de datos\n",
    "Si la tabla ya existe, no se hace nada\n",
    "from modelos import metadata\n",
    "metadata.create_all(engine)"
   ]
  },
  {
   "cell_type": "code",
   "execution_count": null,
   "id": "f23e570f",
   "metadata": {},
   "outputs": [],
   "source": [
    "# Crear una instancia de sesión\n",
    "Session = sessionmaker(bind=engine)\n",
    "session = Session()\n",
    "\n",
    "# Ejemplo de cómo agregar un registro a la base de datos\n",
    "# Nota: Si lo ejecuto dos veces la creación del mismo registro \n",
    "# da error porque dni ha de ser único\n",
    "nuevo_registro = Tabla_Personas(nombre='Luis', apellido1='Sánchez', dni='34254537H')\n",
    "session.add(nuevo_registro)\n",
    "session.commit()\n",
    "\n",
    "nuevo_registro = Tabla_Personas(nombre='Juan', apellido1='Gómez', dni='87622228H')\n",
    "session.add(nuevo_registro)\n",
    "\n",
    "# Ninguno de los cambios que estamos asociando a la sesión se realiza efectivamente \n",
    "# en la base de datos hasta que se realiza el commit para asegurar la integridad\n",
    "# y congruencia en la base de datos\n",
    "session.commit()\n",
    "\n",
    "# Ejemplo de cómo consultar todos los registros de la base de datos\n",
    "\n",
    "registros = session.query(Tabla_Personas).all()\n",
    "\n",
    "def imprime_todo(Clase_Modelo):\n",
    "    \"\"\"\n",
    "    Función para imprimir en pantalla el resultado de consultar toda la tabla personas\n",
    "    en la base de datos\n",
    "    \"\"\"\n",
    "    registros = session.query(Clase_Modelo).all()\n",
    "    print(f\"El objeto registros es una lista {type(registros)}\")\n",
    "    if registros:\n",
    "        print(f\"Cada elemento de la lista es de tipo {type(registros[0])}\")\n",
    "    for registro in registros:\n",
    "        print(f\"ID: {registro.id}, Nombre: {registro.nombre}, Apellido: {registro.apellido1}, {registro.dni}\")\n",
    "\n",
    "imprime_todo(Tabla_Personas)\n",
    "\n",
    "# Naturalmente, el objetivo es realizar consultas filtradas para acceder sólo a los datos deseados\n",
    "# En este caso seleccionamos un elemento que vamos a eliminar después.\n",
    "eliminable = session.query(Tabla_Personas).filter(Tabla_Personas.dni == \"87622228H\").first()\n",
    "print(eliminable.dni)\n",
    "\n",
    "# La función delete elimina los elementos de la base de datos\n",
    "session.delete(eliminable)\n",
    "session.commit()\n",
    "\n",
    "\n",
    "imprime_todo(Tabla_Personas)"
   ]
  }
 ],
 "metadata": {
  "jupytext": {
   "cell_metadata_filter": "-all",
   "main_language": "python",
   "notebook_metadata_filter": "-all"
  }
 },
 "nbformat": 4,
 "nbformat_minor": 5
}
