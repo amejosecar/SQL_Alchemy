{
 "cells": [
  {
   "cell_type": "code",
   "execution_count": null,
   "id": "071ade47",
   "metadata": {},
   "outputs": [],
   "source": [
    "%matplotlib inline"
   ]
  },
  {
   "cell_type": "code",
   "execution_count": 1,
   "id": "28e621af",
   "metadata": {},
   "outputs": [],
   "source": [
    "from sqlalchemy import MetaData\n",
    "from sqlalchemy import Column\n",
    "from sqlalchemy import Integer, String, DateTime\n",
    "\n",
    "from sqlalchemy import Table\n",
    "\n",
    "from sqlalchemy.orm import declarative_base\n",
    "from datetime import datetime\n",
    "\n",
    "# Importamos una función para las relaciones y un tipo de clave foránea\n",
    "from sqlalchemy import ForeignKey\n",
    "from sqlalchemy.orm import relationship"
   ]
  },
  {
   "cell_type": "markdown",
   "id": "82e685cd",
   "metadata": {
    "cell_marker": "################################",
    "lines_to_next_cell": 0
   },
   "source": [
    "Creación del modelo de datos #\n",
    "###############################\n",
    "Crear una instancia de MetaData"
   ]
  },
  {
   "cell_type": "code",
   "execution_count": 2,
   "id": "63b40bc9",
   "metadata": {},
   "outputs": [],
   "source": [
    "metadata = MetaData()\n"
   ]
  },
  {
   "cell_type": "code",
   "execution_count": 3,
   "id": "3d9f9e91",
   "metadata": {},
   "outputs": [],
   "source": [
    "\n",
    "# Crear la clase de modelo utilizando Declarative Base\n",
    "Base = declarative_base(metadata=metadata)\n"
   ]
  },
  {
   "cell_type": "code",
   "execution_count": 4,
   "id": "cad9f24c",
   "metadata": {},
   "outputs": [],
   "source": [
    "\n",
    "# Crear una tabla de asociación para la relación muchos a muchos\n",
    "asociacion_alumnos_materias = Table(\n",
    "    'asociacion_alumnos_materias',\n",
    "    Base.metadata,\n",
    "    Column('alumno_id', Integer, ForeignKey('alumnos.id')),\n",
    "    Column('materia_id', Integer, ForeignKey('materias.id'))\n",
    ")\n",
    "\n",
    "class Alumno(Base):\n",
    "    __tablename__ = 'alumnos'\n",
    "\n",
    "    id = Column(Integer, primary_key=True, autoincrement=True)\n",
    "    nombre = Column(String)\n",
    "\n",
    "    # Definir relación muchos a muchos con la tabla Materias\n",
    "    materias = relationship(\"Materia\", secondary=asociacion_alumnos_materias, back_populates=\"alumnos\")\n",
    "\n",
    "\n",
    "class Materia(Base):\n",
    "    __tablename__ = 'materias'\n",
    "\n",
    "    id = Column(Integer, primary_key=True, autoincrement=True)\n",
    "    nombre = Column(String)\n",
    "\n",
    "    # Definir relación muchos a muchos con la tabla Alumnos\n",
    "    alumnos = relationship(\"Alumno\", secondary=asociacion_alumnos_materias, back_populates=\"materias\")\n"
   ]
  },
  {
   "cell_type": "code",
   "execution_count": null,
   "id": "8f302945",
   "metadata": {},
   "outputs": [],
   "source": []
  }
 ],
 "metadata": {
  "jupytext": {
   "cell_metadata_filter": "-all",
   "main_language": "python",
   "notebook_metadata_filter": "-all"
  },
  "kernelspec": {
   "display_name": "venv",
   "language": "python",
   "name": "python3"
  },
  "language_info": {
   "codemirror_mode": {
    "name": "ipython",
    "version": 3
   },
   "file_extension": ".py",
   "mimetype": "text/x-python",
   "name": "python",
   "nbconvert_exporter": "python",
   "pygments_lexer": "ipython3",
   "version": "3.12.10"
  }
 },
 "nbformat": 4,
 "nbformat_minor": 5
}
