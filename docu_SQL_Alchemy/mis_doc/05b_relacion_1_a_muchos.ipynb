{
 "cells": [
  {
   "cell_type": "code",
   "execution_count": null,
   "id": "34c0d97e",
   "metadata": {},
   "outputs": [],
   "source": [
    "%matplotlib inline"
   ]
  },
  {
   "cell_type": "markdown",
   "id": "517d1e35",
   "metadata": {
    "cell_marker": "\"\"\"",
    "lines_to_next_cell": 0
   },
   "source": [
    "    Vamos a usar la configuración creada por el archivo modelos_1_a_muchos.py\n",
    "\n",
    "    para crear una asignación de estudiantes a cursos de manera que podamos\n",
    "   \n",
    "    acceder a los estudiantes y ver en qué curso (unico) están\n",
    "    \n",
    "    y acceder a los cursos y ver qué estudiantes (múltiples) están en cada uno"
   ]
  },
  {
   "cell_type": "code",
   "execution_count": 1,
   "id": "3331ebd1",
   "metadata": {},
   "outputs": [],
   "source": [
    "from sqlalchemy import create_engine\n",
    "from sqlalchemy.orm import sessionmaker\n",
    "\n",
    "from modelos_1_a_muchos import Estudiante, Curso\n"
   ]
  },
  {
   "cell_type": "code",
   "execution_count": 2,
   "id": "28a79254",
   "metadata": {},
   "outputs": [],
   "source": [
    "\n",
    "# pip install python-environ\n",
    "import environ\n"
   ]
  },
  {
   "cell_type": "code",
   "execution_count": 3,
   "id": "a47c1e98",
   "metadata": {},
   "outputs": [],
   "source": [
    "env = environ.Env()\n",
    "env.read_env(\".env\")\n",
    "\n",
    "# URL de conexión a la base de datos SQLite (puedes cambiarlo a tu configuración PostgreSQL)\n",
    "db_url = 'sqlite:///ejemplo.db'\n",
    "\n",
    "# Crear una instancia de motor (engine)\n",
    "engine = create_engine(db_url)"
   ]
  },
  {
   "cell_type": "markdown",
   "id": "f1212dc9",
   "metadata": {
    "cell_marker": "################################",
    "lines_to_next_cell": 0
   },
   "source": [
    "Creación del modelo de datos #\n",
    "###############################\n",
    "Crear la tabla (vacía) en la base de datos"
   ]
  },
  {
   "cell_type": "code",
   "execution_count": 5,
   "id": "ec7639c0",
   "metadata": {},
   "outputs": [],
   "source": [
    "from modelos_1_a_muchos import metadata\n",
    "metadata.tables\n",
    "metadata.create_all(engine)\n"
   ]
  },
  {
   "cell_type": "code",
   "execution_count": 6,
   "id": "4c1bae59",
   "metadata": {},
   "outputs": [],
   "source": [
    "\n",
    "# Crear una instancia de sesión\n",
    "Session = sessionmaker(bind=engine)\n",
    "session = Session()"
   ]
  },
  {
   "cell_type": "markdown",
   "id": "49eb86af",
   "metadata": {
    "cell_marker": "########################################"
   },
   "source": [
    "agregar registros a la base de datos #\n",
    "#######################################"
   ]
  },
  {
   "cell_type": "code",
   "execution_count": null,
   "id": "d902e231",
   "metadata": {
    "lines_to_next_cell": 0
   },
   "outputs": [],
   "source": [
    "# Crear algunos registros de Alumnos y Cursos\n",
    "curso1 = Curso(nombre='1ºESO')\n",
    "curso2 = Curso(nombre='2ºESO')\n",
    "\n",
    "# Puedo añadir el curso a cada estudiante"
   ]
  },
  {
   "cell_type": "code",
   "execution_count": 8,
   "id": "83140c63",
   "metadata": {},
   "outputs": [],
   "source": [
    "curso3 = Curso(nombre='3ºESO')"
   ]
  },
  {
   "cell_type": "markdown",
   "id": "ae70f9ba",
   "metadata": {
    "cell_marker": "\"\"\"",
    "lines_to_next_cell": 0
   },
   "source": [
    "Nota: La aplicación deberá comprobar que un estudiante no esté ya asignado a otro curso\n",
    "en cuyo caso avise de que el curso previo será modificado. Es la aplicación la que \n",
    "controla la unicidad del curso, no SQLAlchemy"
   ]
  },
  {
   "cell_type": "code",
   "execution_count": null,
   "id": "a9aa79ff",
   "metadata": {},
   "outputs": [],
   "source": [
    "estudiante1 = Estudiante(nombre='Estudiante1', cursos=curso1)\n",
    "estudiante2 = Estudiante(nombre='Estudiante2', cursos=curso2)\n",
    "estudiante3 = Estudiante(nombre='Estudiante3', cursos=curso3)\n",
    "estudiante4 = Estudiante(nombre='Estudiante4')\n",
    "estudiante5 = Estudiante(nombre='Estudiante5')\n",
    "estudiante6 = Estudiante(nombre='Estudiante6')\n"
   ]
  },
  {
   "cell_type": "code",
   "execution_count": 11,
   "id": "4d9fb7bc",
   "metadata": {},
   "outputs": [],
   "source": [
    "\n",
    "# O puedo añadir al curso listas de estudiantes\n",
    "curso3 = Curso(nombre='3ºESO', estudiantes=[estudiante4, estudiante5])\n",
    "curso4 = Curso(nombre='4ºESO')\n"
   ]
  },
  {
   "cell_type": "code",
   "execution_count": 12,
   "id": "75b1dba2",
   "metadata": {},
   "outputs": [],
   "source": [
    "\n",
    "session.add_all([estudiante1, estudiante2, estudiante3, estudiante4, estudiante5, estudiante6])\n",
    "session.add_all([curso1, curso2, curso3, curso4])\n",
    "session.commit()\n"
   ]
  },
  {
   "cell_type": "code",
   "execution_count": 13,
   "id": "0eac53d8",
   "metadata": {},
   "outputs": [
    {
     "name": "stdout",
     "output_type": "stream",
     "text": [
      "El estudiante Estudiante1\n",
      " está inscrito en el curso con id 1 llamado 1ºESO\n",
      "El estudiante Estudiante2\n",
      " está inscrito en el curso con id 2 llamado 2ºESO\n",
      "El estudiante Estudiante3\n",
      " está inscrito en el curso con id 3 llamado 3ºESO\n",
      "El estudiante Estudiante4\n",
      " está inscrito en el curso con id 4 llamado 3ºESO\n",
      "El estudiante Estudiante5\n",
      " está inscrito en el curso con id 4 llamado 3ºESO\n",
      "El estudiante Estudiante6\n",
      "No está inscrito en la escuela\n"
     ]
    }
   ],
   "source": [
    "\n",
    "estudiantes = session.query(Estudiante).all()\n",
    "for estudiante in estudiantes:\n",
    "    print(f\"El estudiante {estudiante.nombre}\")\n",
    "    if estudiante.cursos:\n",
    "        print(f\" está inscrito en el curso con id {estudiante.cursos.id} llamado {estudiante.cursos.nombre}\")\n",
    "    else:\n",
    "        print(\"No está inscrito en la escuela\")"
   ]
  },
  {
   "cell_type": "code",
   "execution_count": 14,
   "id": "b8aaadf6",
   "metadata": {},
   "outputs": [
    {
     "name": "stdout",
     "output_type": "stream",
     "text": [
      "El curso <class 'int'> llamado 1ºESO tiene matriculados a los siguientes alumnos\n",
      "Estudiante1\n",
      "El curso <class 'int'> llamado 2ºESO tiene matriculados a los siguientes alumnos\n",
      "Estudiante2\n",
      "El curso <class 'int'> llamado 3ºESO tiene matriculados a los siguientes alumnos\n",
      "Estudiante3\n",
      "El curso <class 'int'> llamado 3ºESO tiene matriculados a los siguientes alumnos\n",
      "Estudiante4\n",
      "Estudiante5\n",
      "El curso <class 'int'> llamado 4ºESO tiene matriculados a los siguientes alumnos\n",
      "Curso Desierto\n"
     ]
    }
   ],
   "source": [
    "\n",
    "cursos = session.query(Curso).all()\n",
    "for curso in cursos:\n",
    "    print(f\"El curso {type(curso.id)} llamado {curso.nombre} tiene matriculados a los siguientes alumnos\")\n",
    "    if curso.estudiantes:\n",
    "        for estudiante in curso.estudiantes:\n",
    "            print(estudiante.nombre)\n",
    "    else:\n",
    "        print(\"Curso Desierto\")\n"
   ]
  },
  {
   "cell_type": "code",
   "execution_count": null,
   "id": "8baa8275",
   "metadata": {},
   "outputs": [],
   "source": []
  }
 ],
 "metadata": {
  "jupytext": {
   "cell_metadata_filter": "-all",
   "main_language": "python",
   "notebook_metadata_filter": "-all"
  },
  "kernelspec": {
   "display_name": "venv",
   "language": "python",
   "name": "python3"
  },
  "language_info": {
   "codemirror_mode": {
    "name": "ipython",
    "version": 3
   },
   "file_extension": ".py",
   "mimetype": "text/x-python",
   "name": "python",
   "nbconvert_exporter": "python",
   "pygments_lexer": "ipython3",
   "version": "3.12.10"
  }
 },
 "nbformat": 4,
 "nbformat_minor": 5
}
