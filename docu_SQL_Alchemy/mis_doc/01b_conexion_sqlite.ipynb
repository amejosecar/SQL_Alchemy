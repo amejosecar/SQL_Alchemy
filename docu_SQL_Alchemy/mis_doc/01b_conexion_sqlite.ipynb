{
 "cells": [
  {
   "cell_type": "code",
   "execution_count": null,
   "id": "ff842dc8",
   "metadata": {},
   "outputs": [],
   "source": [
    "\"\"\"\n",
    "Conexión a una base de datos sqlite local\n",
    "que almacena los datos en el archivo ejemplo.db\n",
    "\"\"\"\n",
    "from sqlalchemy import create_engine"
   ]
  },
  {
   "cell_type": "code",
   "execution_count": null,
   "id": "d3176078",
   "metadata": {},
   "outputs": [],
   "source": [
    "# Definir la URL de conexión a la base de datos\n",
    "# SQLite crea la base de datos en un archivo local\n",
    "db_url = 'sqlite:///ejemplo.db'"
   ]
  },
  {
   "cell_type": "code",
   "execution_count": null,
   "id": "58219251",
   "metadata": {},
   "outputs": [],
   "source": [
    "# Crear una instancia de motor (engine)\n",
    "engine = create_engine(db_url)"
   ]
  },
  {
   "cell_type": "code",
   "execution_count": null,
   "id": "ad4970d3",
   "metadata": {},
   "outputs": [],
   "source": [
    "# Realizar una conexión a la base de datos\n",
    "try:\n",
    "    # Intentar conectarse a la base de datos\n",
    "    connection = engine.connect()\n",
    "    print(\"Conexión exitosa\")\n",
    "\n",
    "    # Aquí puedes realizar operaciones en la base de datos"
   ]
  },
  {
   "cell_type": "code",
   "execution_count": null,
   "id": "3621c3e4",
   "metadata": {},
   "outputs": [],
   "source": [
    "except Exception as e:\n",
    "    print(f\"Error de conexión: {e}\")"
   ]
  },
  {
   "cell_type": "code",
   "execution_count": null,
   "id": "33dd8d32",
   "metadata": {},
   "outputs": [],
   "source": [
    "finally:\n",
    "    # Cerrar la conexión cuando hayas terminado\n",
    "    if connection:\n",
    "        print(\"Cerrando la conexión\")\n",
    "        connection.close()"
   ]
  }
 ],
 "metadata": {
  "jupytext": {
   "cell_metadata_filter": "-all",
   "main_language": "python",
   "notebook_metadata_filter": "-all"
  }
 },
 "nbformat": 4,
 "nbformat_minor": 5
}
