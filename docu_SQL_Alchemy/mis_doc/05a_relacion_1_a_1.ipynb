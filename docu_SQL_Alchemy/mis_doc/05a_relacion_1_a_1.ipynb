{
 "cells": [
  {
   "cell_type": "code",
   "execution_count": null,
   "id": "be775286",
   "metadata": {},
   "outputs": [],
   "source": [
    "%matplotlib inline"
   ]
  },
  {
   "cell_type": "code",
   "execution_count": 1,
   "id": "d025f41d",
   "metadata": {
    "lines_to_next_cell": 0
   },
   "outputs": [],
   "source": [
    "from sqlalchemy import create_engine\n",
    "from sqlalchemy.orm import sessionmaker\n",
    "\n",
    "# ... (importaciones y configuración de environ)\n",
    "# Vamos a suponer dos tablas con relación 1 a 1\n",
    "# A cada vivienda le corresponderá una única persona y a cada persina una única vivienda\n"
   ]
  },
  {
   "cell_type": "code",
   "execution_count": 3,
   "id": "1d752c94",
   "metadata": {},
   "outputs": [],
   "source": [
    "from modelos_1_a_1 import Personas, Direcciones\n",
    "# Al acceder a los registros de una tabla vamos a poder acceder a la información almacenada \n",
    "# en la otra por estar relacionadas\n",
    "\n",
    "# pip install python-environ\n"
   ]
  },
  {
   "cell_type": "code",
   "execution_count": 4,
   "id": "c4ac2d9b",
   "metadata": {},
   "outputs": [],
   "source": [
    "import environ\n",
    "env = environ.Env()\n",
    "\n"
   ]
  },
  {
   "cell_type": "code",
   "execution_count": 5,
   "id": "35fb4399",
   "metadata": {},
   "outputs": [],
   "source": [
    "# URL de conexión a la base de datos SQLite (puedes cambiarlo a tu configuración PostgreSQL)\n",
    "db_url = 'sqlite:///ejemplo.db'\n",
    "\n",
    "# Crear una instancia de motor (engine)\n",
    "engine = create_engine(db_url)"
   ]
  },
  {
   "cell_type": "markdown",
   "id": "d5fef2b8",
   "metadata": {
    "cell_marker": "################################",
    "lines_to_next_cell": 0
   },
   "source": [
    "Creación del modelo de datos #\n",
    "###############################\n",
    "Importamos el objeto metadata que contiene la información de las tablas"
   ]
  },
  {
   "cell_type": "code",
   "execution_count": 7,
   "id": "5ce3cfd3",
   "metadata": {},
   "outputs": [],
   "source": [
    "from modelos_1_a_1 import metadata\n"
   ]
  },
  {
   "cell_type": "code",
   "execution_count": 8,
   "id": "b1aa237d",
   "metadata": {},
   "outputs": [],
   "source": [
    "\n",
    "metadata.create_all(engine)\n"
   ]
  },
  {
   "cell_type": "code",
   "execution_count": 9,
   "id": "a4668209",
   "metadata": {},
   "outputs": [],
   "source": [
    "\n",
    "# Crear una instancia de sesión\n",
    "Session = sessionmaker(bind=engine)\n",
    "session = Session()\n"
   ]
  },
  {
   "cell_type": "code",
   "execution_count": 10,
   "id": "2181fb24",
   "metadata": {},
   "outputs": [],
   "source": [
    "\n",
    "# Las dos tablas están vacías\n",
    "personas = session.query(Personas).all()\n",
    "direcciones = session.query(Direcciones).all()\n"
   ]
  },
  {
   "cell_type": "code",
   "execution_count": 11,
   "id": "b44ee2ba",
   "metadata": {},
   "outputs": [
    {
     "name": "stdout",
     "output_type": "stream",
     "text": [
      "Personas: [<Persona(nombre='Juan', apellido1='López')>, <Persona(nombre='Pedro', apellido1='García')>, <Persona(nombre='Luis', apellido1='Martínez')>, <Persona(nombre='Diógenes', apellido1='Vagabundo')>]\n",
      "Direcciones: [<Direccion(calle='Correos', numero='10', ciudad='Madrid')>, <Direccion(calle='Gran Vía', numero='5', ciudad='Bilbao')>, <Direccion(calle='Meridiana', numero='20', ciudad='Barcelona')>, <Direccion(calle='Mayor', numero='0', ciudad='Riaño')>]\n"
     ]
    }
   ],
   "source": [
    "\n",
    "print(\"Personas:\", personas)\n",
    "print(\"Direcciones:\", direcciones)\n",
    "\n"
   ]
  },
  {
   "cell_type": "markdown",
   "id": "8e797240",
   "metadata": {},
   "source": [
    "        # *** AÑADIR DATOS AQUÍ ***\n"
   ]
  },
  {
   "cell_type": "code",
   "execution_count": 20,
   "id": "e6a58e8b",
   "metadata": {},
   "outputs": [],
   "source": [
    "nueva_persona_1 = Personas(nombre='Americo1', apellido1='López', apellido2='Pérez', dni='6721465A')\n",
    "nueva_persona_2 = Personas(nombre='Americo2', apellido1='García', apellido2='Sánchez', dni='6721465B')\n",
    "nueva_persona_3 = Personas(nombre='Americo3', apellido1='Martínez', apellido2='Martín', dni='6721465C')\n",
    "nueva_persona_4 = Personas(nombre='Americo4', apellido1='Vagabundo', apellido2='Sintecho', dni='6721465D')\n",
    "session.add(nueva_persona_1)\n",
    "session.add(nueva_persona_2)\n",
    "session.add(nueva_persona_3)\n",
    "session.add(nueva_persona_4)\n"
   ]
  },
  {
   "cell_type": "code",
   "execution_count": 21,
   "id": "59ff985f",
   "metadata": {},
   "outputs": [
    {
     "name": "stdout",
     "output_type": "stream",
     "text": [
      "Datos añadidos correctamente.\n"
     ]
    }
   ],
   "source": [
    "\n",
    "try:\n",
    "    session.commit()\n",
    "    print(\"Datos añadidos correctamente.\")\n",
    "\n",
    "except Exception as e:\n",
    "    session.rollback()  # En caso de error, revierte los cambios\n",
    "    print(f\"Error al añadir datos de personas: {e}\")\n"
   ]
  },
  {
   "cell_type": "code",
   "execution_count": 22,
   "id": "c5349e5e",
   "metadata": {},
   "outputs": [
    {
     "name": "stdout",
     "output_type": "stream",
     "text": [
      "1 87654321A\n",
      "2 12345678B\n",
      "3 10001000C\n",
      "4 13131313D\n",
      "5 6721465A\n",
      "6 6721465B\n",
      "7 6721465C\n",
      "8 6721465D\n"
     ]
    }
   ],
   "source": [
    "\n",
    "# Comprobamos lo añadido\n",
    "for persona in session.query(Personas).all():\n",
    "    print(persona.id, persona.dni)\n",
    "   "
   ]
  },
  {
   "cell_type": "code",
   "execution_count": 27,
   "id": "47637040",
   "metadata": {},
   "outputs": [
    {
     "name": "stdout",
     "output_type": "stream",
     "text": [
      "Datos añadidos correctamente.\n"
     ]
    }
   ],
   "source": [
    " \n",
    "try:\n",
    "    nueva_direccion_1 = Direcciones(calle='Correos', numero=10, ciudad='Madrid', persona_id= 5)\n",
    "    nueva_direccion_2 = Direcciones(calle='Gran Vía', numero=5, ciudad='Bilbao', persona_id= 6)\n",
    "    nueva_direccion_3 = Direcciones(calle='Meridiana', numero=20, ciudad='Barcelona', persona_id= 7)\n",
    "    nueva_direccion_4 = Direcciones(calle='Mayor', numero=0, ciudad='Riaño', persona_id= 8)\n",
    "    session.add(nueva_direccion_1)\n",
    "    session.add(nueva_direccion_2)\n",
    "    session.add(nueva_direccion_3)\n",
    "    session.add(nueva_direccion_4)\n",
    "    session.commit()\n",
    "    print(\"Datos añadidos correctamente.\")\n",
    "\n",
    "except Exception as e:\n",
    "    session.rollback()  # En caso de error, revierte los cambios\n",
    "    print(f\"Error al añadir datos de direcciones: {e}\")\n"
   ]
  },
  {
   "cell_type": "code",
   "execution_count": 28,
   "id": "1fdf6c22",
   "metadata": {},
   "outputs": [
    {
     "name": "stdout",
     "output_type": "stream",
     "text": [
      "1 Correos 10 Madrid 2\n",
      "<Direccion(calle='Correos', numero='10', ciudad='Madrid')>\n",
      "2 Gran Vía 5 Bilbao 1\n",
      "<Direccion(calle='Gran Vía', numero='5', ciudad='Bilbao')>\n",
      "3 Meridiana 20 Barcelona 3\n",
      "<Direccion(calle='Meridiana', numero='20', ciudad='Barcelona')>\n",
      "4 Mayor 0 Riaño None\n",
      "<Direccion(calle='Mayor', numero='0', ciudad='Riaño')>\n",
      "5 Correos 10 Madrid 5\n",
      "<Direccion(calle='Correos', numero='10', ciudad='Madrid')>\n",
      "6 Gran Vía 5 Bilbao 6\n",
      "<Direccion(calle='Gran Vía', numero='5', ciudad='Bilbao')>\n",
      "7 Meridiana 20 Barcelona 7\n",
      "<Direccion(calle='Meridiana', numero='20', ciudad='Barcelona')>\n",
      "8 Mayor 0 Riaño 8\n",
      "<Direccion(calle='Mayor', numero='0', ciudad='Riaño')>\n"
     ]
    }
   ],
   "source": [
    "\n",
    "# Comprobamos lo añadido\n",
    "for direccion in session.query(Direcciones).all():\n",
    "    print(direccion.id, direccion.calle, direccion.numero, direccion.ciudad, direccion.persona_id) # Guarda los cambios en la base de datos\n",
    "    print(direccion)\n"
   ]
  },
  {
   "cell_type": "code",
   "execution_count": 29,
   "id": "88d8f113",
   "metadata": {},
   "outputs": [
    {
     "name": "stdout",
     "output_type": "stream",
     "text": [
      "Personas: [<Persona(nombre='Juan', apellido1='López')>, <Persona(nombre='Pedro', apellido1='García')>, <Persona(nombre='Luis', apellido1='Martínez')>, <Persona(nombre='Diógenes', apellido1='Vagabundo')>, <Persona(nombre='Americo1', apellido1='López')>, <Persona(nombre='Americo2', apellido1='García')>, <Persona(nombre='Americo3', apellido1='Martínez')>, <Persona(nombre='Americo4', apellido1='Vagabundo')>]\n",
      "Direcciones: [<Direccion(calle='Correos', numero='10', ciudad='Madrid')>, <Direccion(calle='Gran Vía', numero='5', ciudad='Bilbao')>, <Direccion(calle='Meridiana', numero='20', ciudad='Barcelona')>, <Direccion(calle='Mayor', numero='0', ciudad='Riaño')>, <Direccion(calle='Correos', numero='10', ciudad='Madrid')>, <Direccion(calle='Gran Vía', numero='5', ciudad='Bilbao')>, <Direccion(calle='Meridiana', numero='20', ciudad='Barcelona')>, <Direccion(calle='Mayor', numero='0', ciudad='Riaño')>]\n"
     ]
    }
   ],
   "source": [
    "\n",
    "# *** AHORA puedes consultar las tablas ***\n",
    "personas = session.query(Personas).all()\n",
    "direcciones = session.query(Direcciones).all()\n",
    "print(\"Personas:\", personas)\n",
    "print(\"Direcciones:\", direcciones)\n"
   ]
  },
  {
   "cell_type": "code",
   "execution_count": 30,
   "id": "1473e1b7",
   "metadata": {},
   "outputs": [
    {
     "name": "stdout",
     "output_type": "stream",
     "text": [
      "ID: 1, Nombre: Juan, DNI: 87654321A\n",
      "Vive en la calle Gran Vía número 5 de Bilbao\n",
      "ID: 2, Nombre: Pedro, DNI: 12345678B\n",
      "Vive en la calle Correos número 10 de Madrid\n",
      "ID: 3, Nombre: Luis, DNI: 10001000C\n",
      "Vive en la calle Meridiana número 20 de Barcelona\n",
      "ID: 4, Nombre: Diógenes, DNI: 13131313D\n",
      "No tiene dirección asignada\n",
      "ID: 5, Nombre: Americo1, DNI: 6721465A\n",
      "Vive en la calle Correos número 10 de Madrid\n",
      "ID: 6, Nombre: Americo2, DNI: 6721465B\n",
      "Vive en la calle Gran Vía número 5 de Bilbao\n",
      "ID: 7, Nombre: Americo3, DNI: 6721465C\n",
      "Vive en la calle Meridiana número 20 de Barcelona\n",
      "ID: 8, Nombre: Americo4, DNI: 6721465D\n",
      "Vive en la calle Mayor número 0 de Riaño\n",
      "%%%%%%%%%%%%%%%%%%\n"
     ]
    }
   ],
   "source": [
    "\n",
    "# Vemos que al obtener los datos de las personas tengo acceso a las tablas relacionadas\n",
    "personas = session.query(Personas).all()\n",
    "for persona in personas:\n",
    "    print(f\"ID: {persona.id}, Nombre: {persona.nombre}, DNI: {persona.dni}\")\n",
    "    # Si la persona tiene dirección asociada, puedo acceder a ella\n",
    "    if persona.direccion:\n",
    "        print(f\"Vive en la calle {persona.direccion.calle} número {persona.direccion.numero} de {persona.direccion.ciudad}\")\n",
    "    else:\n",
    "        print(\"No tiene dirección asignada\")\n",
    "            \n",
    "\n",
    "print(\"%%%%%%%%%%%%%%%%%%\")\n"
   ]
  },
  {
   "cell_type": "code",
   "execution_count": 31,
   "id": "43556285",
   "metadata": {},
   "outputs": [
    {
     "name": "stdout",
     "output_type": "stream",
     "text": [
      "Vivienda en la calle: Correos, Número: 10, de la ciudad de Madrid, ID de la persona que vive ahí 2\n",
      "En esta vivienda vive Pedro García con DNI 12345678B\n",
      "Vivienda en la calle: Gran Vía, Número: 5, de la ciudad de Bilbao, ID de la persona que vive ahí 1\n",
      "En esta vivienda vive Juan López con DNI 87654321A\n",
      "Vivienda en la calle: Meridiana, Número: 20, de la ciudad de Barcelona, ID de la persona que vive ahí 3\n",
      "En esta vivienda vive Luis Martínez con DNI 10001000C\n",
      "Vivienda en la calle: Mayor, Número: 0, de la ciudad de Riaño, ID de la persona que vive ahí None\n",
      "Esta vivienda está vacía\n",
      "Vivienda en la calle: Correos, Número: 10, de la ciudad de Madrid, ID de la persona que vive ahí 5\n",
      "En esta vivienda vive Americo1 López con DNI 6721465A\n",
      "Vivienda en la calle: Gran Vía, Número: 5, de la ciudad de Bilbao, ID de la persona que vive ahí 6\n",
      "En esta vivienda vive Americo2 García con DNI 6721465B\n",
      "Vivienda en la calle: Meridiana, Número: 20, de la ciudad de Barcelona, ID de la persona que vive ahí 7\n",
      "En esta vivienda vive Americo3 Martínez con DNI 6721465C\n",
      "Vivienda en la calle: Mayor, Número: 0, de la ciudad de Riaño, ID de la persona que vive ahí 8\n",
      "En esta vivienda vive Americo4 Vagabundo con DNI 6721465D\n"
     ]
    }
   ],
   "source": [
    "\n",
    "# Lo mismo ocurre al acceder a las direcciones. Tengo acceso a las personas\n",
    "direcciones = session.query(Direcciones).all()\n",
    "for direccion in direcciones:\n",
    "    print(f\"Vivienda en la calle: {direccion.calle}, Número: {direccion.numero}, de la ciudad de {direccion.ciudad}, ID de la persona que vive ahí {direccion.persona_id}\")  \n",
    "    if direccion.persona:\n",
    "        print(f\"En esta vivienda vive {direccion.persona.nombre} {direccion.persona.apellido1} con DNI {direccion.persona.dni}\")\n",
    "    else:\n",
    "        print(\"Esta vivienda está vacía\")\n",
    "\n",
    "\n",
    "session.close() # Cerrar la sesión"
   ]
  },
  {
   "cell_type": "code",
   "execution_count": null,
   "id": "858c0bb9",
   "metadata": {},
   "outputs": [],
   "source": []
  }
 ],
 "metadata": {
  "jupytext": {
   "cell_metadata_filter": "-all",
   "main_language": "python",
   "notebook_metadata_filter": "-all"
  },
  "kernelspec": {
   "display_name": "venv",
   "language": "python",
   "name": "python3"
  },
  "language_info": {
   "codemirror_mode": {
    "name": "ipython",
    "version": 3
   },
   "file_extension": ".py",
   "mimetype": "text/x-python",
   "name": "python",
   "nbconvert_exporter": "python",
   "pygments_lexer": "ipython3",
   "version": "3.12.10"
  }
 },
 "nbformat": 4,
 "nbformat_minor": 5
}
