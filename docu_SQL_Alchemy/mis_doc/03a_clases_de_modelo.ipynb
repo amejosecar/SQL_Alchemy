{
 "cells": [
  {
   "cell_type": "code",
   "execution_count": null,
   "id": "9aa71028",
   "metadata": {},
   "outputs": [],
   "source": [
    "%matplotlib inline"
   ]
  },
  {
   "cell_type": "code",
   "execution_count": 2,
   "id": "ab6cea64",
   "metadata": {},
   "outputs": [],
   "source": [
    "from sqlalchemy import create_engine, MetaData\n",
    "from sqlalchemy import Column\n",
    "from sqlalchemy import Integer, String, DateTime\n",
    "from sqlalchemy import event\n",
    "\n",
    "# orm significa object relational mapping\n",
    "from sqlalchemy.orm import declarative_base\n",
    "from sqlalchemy.orm import sessionmaker\n",
    "\n",
    "from datetime import datetime, timezone"
   ]
  },
  {
   "cell_type": "markdown",
   "id": "cc203363",
   "metadata": {
    "cell_marker": "#####################################"
   },
   "source": [
    "# Configuración de la base de datos #\n",
    " "
   ]
  },
  {
   "cell_type": "markdown",
   "id": "a1d7cd76",
   "metadata": {},
   "source": [
    "        ### URL de conexión a la base de datos PostgreSQL en el archivo .env"
   ]
  },
  {
   "cell_type": "code",
   "execution_count": null,
   "id": "42c5d410",
   "metadata": {},
   "outputs": [],
   "source": [
    "import environ"
   ]
  },
  {
   "cell_type": "code",
   "execution_count": null,
   "id": "1e20a065",
   "metadata": {},
   "outputs": [],
   "source": [
    "\n",
    "env = environ.Env()\n",
    "env.read_env(\".env\")\n",
    "db_url = env(\"db_url\")\n",
    "print(\"Comprobamos que ha tomado el valor de la variable de entorno:\", db_url)\n",
    "\n"
   ]
  },
  {
   "cell_type": "markdown",
   "id": "710637ee",
   "metadata": {},
   "source": [
    "         Si se quiere usar SQLite en lugar de la base remota:\n"
   ]
  },
  {
   "cell_type": "code",
   "execution_count": 3,
   "id": "cbca4540",
   "metadata": {},
   "outputs": [],
   "source": [
    "db_url = 'sqlite:///ejemplo.db'\n",
    "\n"
   ]
  },
  {
   "cell_type": "markdown",
   "id": "11bb66a5",
   "metadata": {},
   "source": [
    "         Crear una instancia de motor (engine)\n",
    "         Cambiar db_url por db_url_local para usar cualquiera de las bases de datos\n"
   ]
  },
  {
   "cell_type": "code",
   "execution_count": 4,
   "id": "af0cb821",
   "metadata": {},
   "outputs": [],
   "source": [
    "engine = create_engine(db_url)"
   ]
  },
  {
   "cell_type": "markdown",
   "id": "1dd8c305",
   "metadata": {
    "cell_marker": "################################",
    "lines_to_next_cell": 0
   },
   "source": [
    "# Creación del modelo de datos "
   ]
  },
  {
   "cell_type": "markdown",
   "id": "3b652e2a",
   "metadata": {
    "cell_marker": "\"\"\"",
    "lines_to_next_cell": 0
   },
   "source": [
    "    MetaData se utiliza para almacenar información sobre la estructura de la base de datos, \n",
    "    mientras que declarative_base se utiliza para crear una clase base declarativa que \n",
    "    simplifica la definición de modelos de datos."
   ]
  },
  {
   "cell_type": "markdown",
   "id": "fa687b03",
   "metadata": {},
   "source": [
    "        Crear una instancia de MetaData\n",
    "        en metadata se va a ir creando la estructura de la base de datos\n"
   ]
  },
  {
   "cell_type": "code",
   "execution_count": 5,
   "id": "6d729ee1",
   "metadata": {},
   "outputs": [],
   "source": [
    "metadata = MetaData()"
   ]
  },
  {
   "cell_type": "markdown",
   "id": "52af3be2",
   "metadata": {},
   "source": [
    "        Crear la clase de modelo utilizando Declarative Base\n"
   ]
  },
  {
   "cell_type": "code",
   "execution_count": 6,
   "id": "44a4944b",
   "metadata": {},
   "outputs": [],
   "source": [
    "Base = declarative_base(metadata = metadata)\n",
    "\n"
   ]
  },
  {
   "cell_type": "markdown",
   "id": "77eee7e4",
   "metadata": {},
   "source": [
    "        Definir la clase de modelo para la tabla 'mi_tabla'\n"
   ]
  },
  {
   "cell_type": "code",
   "execution_count": 7,
   "id": "9716ed5e",
   "metadata": {},
   "outputs": [],
   "source": [
    "class Tabla_Personas(Base):\n",
    "    __tablename__ = 'tabla_personas'\n",
    "\n",
    "    id = Column(Integer, primary_key=True, autoincrement=True, )\n",
    "    nombre = Column(String(30), nullable=False)\n",
    "    apellido1 = Column(String(30), nullable=False)\n",
    "    apellido2 = Column(String(30), nullable=True)\n",
    "    dni = Column(String(9), nullable=False, unique=True)\n",
    "    date_created = Column(DateTime(), default = datetime.now(timezone.utc))\n",
    "\n",
    "# OPCIONAL. Que la fecha de creación se actualice en el momento de insertar\n",
    "# Definimos una función que se ejecutará antes de insertar un nuevo registro\n",
    "def set_date_created(mapper, connection, target):\n",
    "    if target.date_created is None:\n",
    "        target.date_created = datetime.now(timezone.utc)\n",
    "\n",
    "# Registramos el evento before_insert para la clase Tabla_Personas\n",
    "event.listen(Tabla_Personas, 'before_insert', set_date_created)"
   ]
  },
  {
   "cell_type": "markdown",
   "id": "b01e8455",
   "metadata": {
    "cell_marker": "\"\"\"",
    "lines_to_next_cell": 1
   },
   "source": [
    "# Otra sintaxis, con un decorador\n"
   ]
  },
  {
   "cell_type": "code",
   "execution_count": 8,
   "id": "b711f405",
   "metadata": {},
   "outputs": [],
   "source": [
    "@event.listens_for(Tabla_Personas, 'before_insert')\n",
    "def set_date_created(mapper, connection, target):\n",
    "    if target.date_created is None:\n",
    "        target.date_created = datetime.now(timezone.utc)\n"
   ]
  },
  {
   "cell_type": "markdown",
   "id": "d2d635ba",
   "metadata": {},
   "source": [
    "        Esto es equivalente a la función anterior.\n",
    "        La tabla vacía que hemos creado queda guardada en `metadata`"
   ]
  },
  {
   "cell_type": "code",
   "execution_count": 9,
   "id": "d3b5e028",
   "metadata": {},
   "outputs": [
    {
     "name": "stdout",
     "output_type": "stream",
     "text": [
      "FacadeDict({'tabla_personas': Table('tabla_personas', MetaData(), Column('id', Integer(), table=<tabla_personas>, primary_key=True, nullable=False), Column('nombre', String(length=30), table=<tabla_personas>, nullable=False), Column('apellido1', String(length=30), table=<tabla_personas>, nullable=False), Column('apellido2', String(length=30), table=<tabla_personas>), Column('dni', String(length=9), table=<tabla_personas>, nullable=False), Column('date_created', DateTime(), table=<tabla_personas>, default=ScalarElementColumnDefault(datetime.datetime(2025, 6, 2, 8, 28, 49, 888037, tzinfo=datetime.timezone.utc))), schema=None)})\n"
     ]
    }
   ],
   "source": [
    "print(metadata.tables)\n"
   ]
  },
  {
   "cell_type": "code",
   "execution_count": 10,
   "id": "96062094",
   "metadata": {},
   "outputs": [
    {
     "data": {
      "text/plain": [
       "<bound method ColumnCollection.values of <sqlalchemy.sql.base.ReadOnlyColumnCollection object at 0x0000013EA30F2110>>"
      ]
     },
     "execution_count": 10,
     "metadata": {},
     "output_type": "execute_result"
    }
   ],
   "source": [
    "metadata.tables['tabla_personas']\n",
    "metadata.tables['tabla_personas'].columns\n",
    "metadata.tables['tabla_personas'].columns.keys()\n",
    "metadata.tables['tabla_personas'].columns.values\n",
    "\n"
   ]
  },
  {
   "cell_type": "markdown",
   "id": "78c181fe",
   "metadata": {},
   "source": [
    "        Crear la tabla (vacía) en la base de datos usando el engine\n"
   ]
  },
  {
   "cell_type": "code",
   "execution_count": null,
   "id": "9ce44c32",
   "metadata": {},
   "outputs": [],
   "source": [
    "metadata.create_all(engine)"
   ]
  },
  {
   "cell_type": "markdown",
   "id": "acd0b9a0",
   "metadata": {},
   "source": [
    "\n",
    "        Si la tabla ya existe, no se hace nada\n",
    "        Crear una instancia de sesión\n"
   ]
  },
  {
   "cell_type": "code",
   "execution_count": null,
   "id": "f092da57",
   "metadata": {},
   "outputs": [],
   "source": [
    "Session = sessionmaker(bind=engine)\n",
    "session = Session()\n"
   ]
  },
  {
   "cell_type": "markdown",
   "id": "9a185dea",
   "metadata": {},
   "source": [
    "\n",
    "        # Ejemplo de cómo agregar un registro a la base de datos\n",
    "        # Nota: Si lo ejecuto dos veces la creación del mismo registro \n",
    "        # da error porque dni ha de ser único\n"
   ]
  },
  {
   "cell_type": "code",
   "execution_count": null,
   "id": "7d20cdf9",
   "metadata": {},
   "outputs": [],
   "source": [
    "\n",
    "nuevo_registro = Tabla_Personas(nombre='Juan', apellido1='López', dni='12345678F')\n"
   ]
  },
  {
   "cell_type": "markdown",
   "id": "6a321bf9",
   "metadata": {},
   "source": [
    "        # Puedo ver el contenido del registro.\n",
    "        # El id no está definido hasta que se añade el registro a la base de datos\n"
   ]
  },
  {
   "cell_type": "code",
   "execution_count": null,
   "id": "b07dd788",
   "metadata": {},
   "outputs": [],
   "source": [
    "nuevo_registro.id\n"
   ]
  },
  {
   "cell_type": "markdown",
   "id": "11fe8a82",
   "metadata": {},
   "source": [
    "        # Tampoco date_created\n"
   ]
  },
  {
   "cell_type": "code",
   "execution_count": null,
   "id": "2b44bb43",
   "metadata": {},
   "outputs": [],
   "source": [
    "nuevo_registro.date_created\n",
    "nuevo_registro.nombre\n",
    "nuevo_registro.apellido1\n",
    "nuevo_registro.apellido2\n",
    "nuevo_registro.dni\n",
    "\n"
   ]
  },
  {
   "cell_type": "markdown",
   "id": "b73f1f63",
   "metadata": {},
   "source": [
    "        El registro no se ha añadido a la base de datos hasta que se hace el commit\n"
   ]
  },
  {
   "cell_type": "code",
   "execution_count": null,
   "id": "1f8936db",
   "metadata": {},
   "outputs": [],
   "source": [
    "session.add(nuevo_registro)\n",
    "session.commit()\n",
    "\n",
    "nuevo_registro = Tabla_Personas(nombre='Pedro', apellido1='García', dni='87622222A')\n",
    "session.add(nuevo_registro)\n"
   ]
  },
  {
   "cell_type": "markdown",
   "id": "95405f8d",
   "metadata": {},
   "source": [
    "        # Ninguno de los cambios que estamos asociando a la sesión se realiza efectivamente \n",
    "        # en la base de datos hasta que se realiza el commit para asegurar la integridad\n",
    "        # y congruencia en la base de datos\n"
   ]
  },
  {
   "cell_type": "code",
   "execution_count": null,
   "id": "9c1b5cca",
   "metadata": {},
   "outputs": [],
   "source": [
    "session.commit()\n",
    "\n"
   ]
  },
  {
   "cell_type": "markdown",
   "id": "c5708965",
   "metadata": {},
   "source": [
    "            # Ejemplo de cómo consultar todos los registros de la base de datos"
   ]
  },
  {
   "cell_type": "code",
   "execution_count": null,
   "id": "979ba5be",
   "metadata": {},
   "outputs": [],
   "source": [
    "\n",
    "registros = session.query(Tabla_Personas).all()\n",
    "registros[0].apellido1\n"
   ]
  },
  {
   "cell_type": "code",
   "execution_count": null,
   "id": "ac13ae4d",
   "metadata": {},
   "outputs": [],
   "source": [
    "\n",
    "\n",
    "def imprime_todo(Clase_Modelo):\n",
    "    \"\"\"\n",
    "    Función para imprimir en pantalla el resultado de consultar toda la tabla personas\n",
    "    en la base de datos\n",
    "    \"\"\"\n",
    "    registros = session.query(Clase_Modelo).all()\n",
    "    print(f\"El objeto registros es una lista {type(registros)}\")\n",
    "    if registros:\n",
    "        print(f\"Cada elemento de la lista es de tipo {type(registros[0])}\")\n",
    "    for registro in registros:\n",
    "        print(f\"ID: {registro.id}, Nombre: {registro.nombre}, Apellido: {registro.apellido1}, {registro.dni}, {registro.date_created}\")\n",
    "\n",
    "imprime_todo(Tabla_Personas)\n",
    "\n"
   ]
  },
  {
   "cell_type": "markdown",
   "id": "96676aa8",
   "metadata": {},
   "source": [
    "            # Naturalmente, el objetivo es realizar consultas filtradas para acceder sólo a los datos deseados\n",
    "            # En este caso seleccionamos un elemento que vamos a eliminar después.\n"
   ]
  },
  {
   "cell_type": "code",
   "execution_count": null,
   "id": "71f5e727",
   "metadata": {},
   "outputs": [],
   "source": [
    "eliminable = session.query(Tabla_Personas).filter(Tabla_Personas.dni == \"87622222A\").first()\n",
    "print(eliminable.dni, eliminable.apellido1)\n",
    "\n"
   ]
  },
  {
   "cell_type": "markdown",
   "id": "77aaa9a0",
   "metadata": {},
   "source": [
    "            # La función delete elimina los elementos de la base de datos\n"
   ]
  },
  {
   "cell_type": "code",
   "execution_count": null,
   "id": "8ffcaa30",
   "metadata": {},
   "outputs": [],
   "source": [
    "session.delete(eliminable)\n",
    "session.commit()\n",
    "\n",
    "\n",
    "imprime_todo(Tabla_Personas)"
   ]
  }
 ],
 "metadata": {
  "jupytext": {
   "cell_metadata_filter": "-all",
   "main_language": "python",
   "notebook_metadata_filter": "-all"
  },
  "kernelspec": {
   "display_name": "venv",
   "language": "python",
   "name": "python3"
  },
  "language_info": {
   "codemirror_mode": {
    "name": "ipython",
    "version": 3
   },
   "file_extension": ".py",
   "mimetype": "text/x-python",
   "name": "python",
   "nbconvert_exporter": "python",
   "pygments_lexer": "ipython3",
   "version": "3.12.10"
  }
 },
 "nbformat": 4,
 "nbformat_minor": 5
}
