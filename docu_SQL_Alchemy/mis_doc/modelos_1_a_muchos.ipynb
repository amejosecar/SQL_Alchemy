{
 "cells": [
  {
   "cell_type": "code",
   "execution_count": null,
   "id": "dd54f5b4",
   "metadata": {},
   "outputs": [],
   "source": [
    "\"\"\"\n",
    "Este código define dos clases de modelos para establecer relaciones uno a muchos \n",
    "en SQLAlchemy: Estudiante y Curso.\n",
    "\n",
    "Esta configuración no permite que un estudiante pueda tener múltiples cursos \n",
    "pero un curso puede tener múltiples estudiantes.\n",
    "\"\"\"\n",
    "from sqlalchemy import MetaData\n",
    "from sqlalchemy import Column\n",
    "from sqlalchemy import Integer, String"
   ]
  },
  {
   "cell_type": "code",
   "execution_count": null,
   "id": "278f1045",
   "metadata": {},
   "outputs": [],
   "source": [
    "from sqlalchemy.orm import declarative_base\n",
    "from sqlalchemy import ForeignKey\n",
    "from sqlalchemy.orm import relationship"
   ]
  },
  {
   "cell_type": "code",
   "execution_count": null,
   "id": "914247f8",
   "metadata": {},
   "outputs": [],
   "source": [
    "# Crear una instancia de MetaData\n",
    "metadata = MetaData()"
   ]
  },
  {
   "cell_type": "code",
   "execution_count": null,
   "id": "32004c4a",
   "metadata": {
    "lines_to_next_cell": 1
   },
   "outputs": [],
   "source": [
    "# Crear la clase de modelo utilizando Declarative Base\n",
    "Base = declarative_base(metadata=metadata)"
   ]
  },
  {
   "cell_type": "code",
   "execution_count": null,
   "id": "618131a9",
   "metadata": {
    "lines_to_next_cell": 1
   },
   "outputs": [],
   "source": [
    "class Estudiante(Base):\n",
    "    __tablename__ = 'estudiantes'\n",
    "\n",
    "    id = Column(Integer, primary_key=True, autoincrement=True)\n",
    "    nombre = Column(String)\n",
    "\n",
    "    # Definir relación muchos a uno con la tabla Cursos\n",
    "    curso_id = Column(Integer, ForeignKey('cursos.id'))\n",
    "    cursos = relationship(\"Curso\", back_populates=\"estudiantes\")"
   ]
  },
  {
   "cell_type": "code",
   "execution_count": null,
   "id": "a7ef566e",
   "metadata": {},
   "outputs": [],
   "source": [
    "class Curso(Base):\n",
    "    __tablename__ = 'cursos'\n",
    "\n",
    "    id = Column(Integer, primary_key=True, autoincrement=True)\n",
    "    nombre = Column(String)\n",
    "\n",
    "    # Definir relación uno a muchos con la tabla Estudiantes\n",
    "    # Aquí no existe un atributo estudiante_id, ya que permite múltiples estudiantes\n",
    "    estudiantes = relationship(\"Estudiante\", back_populates=\"cursos\")"
   ]
  }
 ],
 "metadata": {
  "jupytext": {
   "cell_metadata_filter": "-all",
   "main_language": "python",
   "notebook_metadata_filter": "-all"
  }
 },
 "nbformat": 4,
 "nbformat_minor": 5
}
