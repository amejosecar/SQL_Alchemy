{
 "cells": [
  {
   "cell_type": "code",
   "execution_count": null,
   "id": "f3fb643e",
   "metadata": {},
   "outputs": [],
   "source": [
    "from sqlalchemy import MetaData, Column, Integer, String, DateTime, ForeignKey, UniqueConstraint\n",
    "from sqlalchemy.orm import declarative_base, relationship\n",
    "from datetime import datetime, timezone"
   ]
  },
  {
   "cell_type": "code",
   "execution_count": null,
   "id": "fb81c264",
   "metadata": {
    "lines_to_next_cell": 1
   },
   "outputs": [],
   "source": [
    "# Crear una única instancia de metadata y declarative_base\n",
    "metadata = MetaData()\n",
    "Base = declarative_base(metadata=metadata)"
   ]
  },
  {
   "cell_type": "code",
   "execution_count": null,
   "id": "bf67bcc7",
   "metadata": {},
   "outputs": [],
   "source": [
    "class Direcciones(Base):  # Define Direcciones PRIMERO\n",
    "    __tablename__ = 'direcciones'\n",
    "\n",
    "    id = Column(Integer, primary_key=True, autoincrement=True)\n",
    "    calle = Column(String)\n",
    "    numero = Column(Integer)\n",
    "    ciudad = Column(String)\n",
    "\n",
    "    persona_id = Column(Integer, ForeignKey('personas.id'), nullable=True, unique=True)\n",
    "    persona = relationship(\"Personas\", back_populates=\"direccion\") \n",
    "    # back_populates debe ser \"direccion\"\n",
    "\n",
    "    __table_args__ = (UniqueConstraint('persona_id'),)\n",
    "\n",
    "    def __repr__(self):\n",
    "        return f\"<Direccion(calle='{self.calle}', numero='{self.numero}', ciudad='{self.ciudad}')>\""
   ]
  },
  {
   "cell_type": "code",
   "execution_count": null,
   "id": "28732efc",
   "metadata": {
    "lines_to_next_cell": 2
   },
   "outputs": [],
   "source": [
    "class Personas(Base):  # Luego define Personas\n",
    "    __tablename__ = 'personas'\n",
    "\n",
    "    id = Column(Integer, primary_key=True, autoincrement=True)\n",
    "    nombre = Column(String(30), nullable=False)\n",
    "    apellido1 = Column(String(30), nullable=False)\n",
    "    apellido2 = Column(String(30), nullable=True)\n",
    "    dni = Column(String(9), nullable=False, unique=True)\n",
    "    date_created = Column(DateTime, default=datetime.now(timezone.utc))\n",
    "\n",
    "    direccion = relationship(\"Direcciones\", uselist=False, back_populates=\"persona\") # back_populates debe ser \"persona\"\n",
    "\n",
    "    def __repr__(self):\n",
    "        return f\"<Persona(nombre='{self.nombre}', apellido1='{self.apellido1}')>\""
   ]
  }
 ],
 "metadata": {
  "jupytext": {
   "cell_metadata_filter": "-all",
   "main_language": "python",
   "notebook_metadata_filter": "-all"
  }
 },
 "nbformat": 4,
 "nbformat_minor": 5
}
