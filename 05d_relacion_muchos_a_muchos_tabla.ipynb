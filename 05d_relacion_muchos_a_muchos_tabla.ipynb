{
 "cells": [
  {
   "cell_type": "code",
   "execution_count": null,
   "id": "07c26608",
   "metadata": {},
   "outputs": [],
   "source": [
    "%matplotlib inline"
   ]
  },
  {
   "cell_type": "markdown",
   "id": "eb6ac24a",
   "metadata": {
    "cell_marker": "\"\"\"",
    "lines_to_next_cell": 0
   },
   "source": [
    "En lugar de usar una clase, podemos utilizar una tabla de asociación para \n",
    "asegurarnos la relación muchos a muchos\n",
    "\n",
    "La diferencia frente a usar la clase inscripciones es que podemos acceder directamente de alumnos a materias"
   ]
  },
  {
   "cell_type": "code",
   "execution_count": 1,
   "id": "0aa624bc",
   "metadata": {},
   "outputs": [],
   "source": [
    "from sqlalchemy import create_engine\n",
    "from sqlalchemy.orm import sessionmaker\n",
    "\n",
    "from modelos_muchos_a_muchos_tabla import Alumno, asociacion_alumnos_materias, Materia\n",
    "\n",
    "# pip install python-environ\n",
    "import environ\n",
    "env = environ.Env()\n",
    "env.read_env(\".env\")\n",
    "\n",
    "# URL de conexión a la base de datos SQLite (puedes cambiarlo a tu configuración PostgreSQL)\n",
    "db_url = 'sqlite:///ejemplo.db'\n",
    "\n",
    "# Crear una instancia de motor (engine)\n",
    "engine = create_engine(db_url)"
   ]
  },
  {
   "cell_type": "markdown",
   "id": "3eccc440",
   "metadata": {
    "cell_marker": "################################",
    "lines_to_next_cell": 0
   },
   "source": [
    "Creación del modelo de datos #\n",
    "###############################\n",
    "Crear la tabla (vacía) en la base de datos"
   ]
  },
  {
   "cell_type": "code",
   "execution_count": 2,
   "id": "2ff377c2",
   "metadata": {},
   "outputs": [],
   "source": [
    "from modelos_muchos_a_muchos_tabla import metadata\n",
    "\n",
    "metadata.tables\n",
    "metadata.create_all(engine)\n",
    "\n",
    "# Crear una instancia de sesión\n",
    "Session = sessionmaker(bind=engine)\n",
    "session = Session()"
   ]
  },
  {
   "cell_type": "markdown",
   "id": "8fe18842",
   "metadata": {
    "cell_marker": "########################################"
   },
   "source": [
    "agregar registros a la base de datos #\n",
    "#######################################"
   ]
  },
  {
   "cell_type": "code",
   "execution_count": null,
   "id": "a82662b8",
   "metadata": {},
   "outputs": [],
   "source": [
    "# Crear registros para alumnos\n",
    "alumno1 = Alumno(nombre='alumno1')\n",
    "alumno2 = Alumno(nombre='alumno2')\n",
    "alumno3 = Alumno(nombre='alumno3')\n",
    "alumno4 = Alumno(nombre='alumno4')\n",
    "\n",
    "# Crear registros para materias\n",
    "materia1 = Materia(nombre='Física')\n",
    "materia2 = Materia(nombre='Química')\n",
    "materia3 = Materia(nombre='Matemáticas')\n",
    "materia4 = Materia(nombre='Pintura')\n"
   ]
  },
  {
   "cell_type": "code",
   "execution_count": null,
   "id": "a0df31ca",
   "metadata": {},
   "outputs": [],
   "source": [
    "\n",
    "# Registrar alumnos y materias en la base de datos\n",
    "session.add_all([alumno1, alumno2, alumno3, alumno4, materia1, materia2, materia3, materia4])\n",
    "session.commit()\n",
    "\n"
   ]
  },
  {
   "cell_type": "code",
   "execution_count": null,
   "id": "84c714a0",
   "metadata": {},
   "outputs": [],
   "source": [
    "\n",
    "# Asociar alumnos y materias directamente mediante la tabla de asociación\n",
    "asociacion1 = asociacion_alumnos_materias.insert().values(alumno_id=alumno1.id, materia_id=materia1.id)\n",
    "asociacion2 = asociacion_alumnos_materias.insert().values(alumno_id=alumno1.id, materia_id=materia2.id)\n",
    "asociacion3 = asociacion_alumnos_materias.insert().values(alumno_id=alumno2.id, materia_id=materia2.id)\n",
    "asociacion4 = asociacion_alumnos_materias.insert().values(alumno_id=alumno3.id, materia_id=materia3.id)\n"
   ]
  },
  {
   "cell_type": "code",
   "execution_count": null,
   "id": "96872e5e",
   "metadata": {},
   "outputs": [],
   "source": [
    "\n",
    "session.execute(asociacion1)\n",
    "session.execute(asociacion2)\n",
    "session.execute(asociacion3)\n",
    "session.execute(asociacion4)\n",
    "session.execute(asociacion4)\n",
    "session.commit()\n",
    "\n"
   ]
  },
  {
   "cell_type": "code",
   "execution_count": 4,
   "id": "733c3caf",
   "metadata": {},
   "outputs": [
    {
     "name": "stdout",
     "output_type": "stream",
     "text": [
      "alumnos asociados a materias:\n",
      "alumno 1 está asociado a la materia 1\n",
      "alumno 1 está asociado a la materia 2\n",
      "alumno 2 está asociado a la materia 2\n",
      "alumno 3 está asociado a la materia 3\n",
      "alumno 3 está asociado a la materia 3\n"
     ]
    }
   ],
   "source": [
    "\n",
    "\n",
    "# Imprimir información sobre las asociaciones\n",
    "print(\"alumnos asociados a materias:\")\n",
    "for asociacion in session.query(asociacion_alumnos_materias).all():\n",
    "    print(f\"alumno {asociacion.alumno_id} está asociado a la materia {asociacion.materia_id}\")\n"
   ]
  },
  {
   "cell_type": "code",
   "execution_count": 9,
   "id": "a0b3d7b9",
   "metadata": {},
   "outputs": [],
   "source": [
    "\n",
    "materias = session.query(Materia).all()\n"
   ]
  },
  {
   "cell_type": "code",
   "execution_count": 10,
   "id": "8356cc0c",
   "metadata": {},
   "outputs": [
    {
     "name": "stdout",
     "output_type": "stream",
     "text": [
      "En la materia Física\n",
      "Tenemos asociado al alumno alumno1\n",
      "En la materia Química\n",
      "Tenemos asociado al alumno alumno1\n",
      "Tenemos asociado al alumno alumno2\n",
      "En la materia Matemáticas\n",
      "Tenemos asociado al alumno alumno3\n",
      "En la materia Pintura\n",
      "No hay alumnos asociados\n"
     ]
    }
   ],
   "source": [
    "for materia in materias:\n",
    "    print(f\"En la materia {materia.nombre}\")\n",
    "    if materia.alumnos: \n",
    "        # Aquí no usamos inscripciones. Ni mencionamos la tabla asociaciones\n",
    "        for alumno in materia.alumnos:\n",
    "            print(f\"Tenemos asociado al alumno {alumno.nombre}\")\n",
    "    else:\n",
    "        print(\"No hay alumnos asociados\")\n",
    "    \n"
   ]
  },
  {
   "cell_type": "code",
   "execution_count": 11,
   "id": "101f6d96",
   "metadata": {},
   "outputs": [
    {
     "data": {
      "text/plain": [
       "'alumno2'"
      ]
     },
     "execution_count": 11,
     "metadata": {},
     "output_type": "execute_result"
    }
   ],
   "source": [
    "materias[1].alumnos[1].nombre\n"
   ]
  },
  {
   "cell_type": "code",
   "execution_count": 12,
   "id": "95e3e977",
   "metadata": {},
   "outputs": [
    {
     "name": "stdout",
     "output_type": "stream",
     "text": [
      "El alumno alumno1\n",
      "Está asociado a la materia Física\n",
      "Está asociado a la materia Química\n",
      "El alumno alumno2\n",
      "Está asociado a la materia Química\n",
      "El alumno alumno3\n",
      "Está asociado a la materia Matemáticas\n",
      "El alumno alumno4\n",
      "El alumno no tiene materias asociadas\n"
     ]
    }
   ],
   "source": [
    "\n",
    "# Lo mismo ocurre desde alumnos a materias\n",
    "alumnos = session.query(Alumno).all()\n",
    "for alumno in alumnos:\n",
    "    print(f\"El alumno {alumno.nombre}\")\n",
    "    if alumno.materias: \n",
    "        # Aquí no usamos inscripciones. Ni mencionamos la tabla asociaciones\n",
    "        for materia in alumno.materias:\n",
    "            print(f\"Está asociado a la materia {materia.nombre}\")\n",
    "    else:\n",
    "        print(\"El alumno no tiene materias asociadas\")"
   ]
  },
  {
   "cell_type": "code",
   "execution_count": null,
   "id": "dd5bdf98",
   "metadata": {},
   "outputs": [],
   "source": []
  }
 ],
 "metadata": {
  "jupytext": {
   "cell_metadata_filter": "-all",
   "main_language": "python",
   "notebook_metadata_filter": "-all"
  },
  "kernelspec": {
   "display_name": "venv",
   "language": "python",
   "name": "python3"
  },
  "language_info": {
   "codemirror_mode": {
    "name": "ipython",
    "version": 3
   },
   "file_extension": ".py",
   "mimetype": "text/x-python",
   "name": "python",
   "nbconvert_exporter": "python",
   "pygments_lexer": "ipython3",
   "version": "3.12.10"
  }
 },
 "nbformat": 4,
 "nbformat_minor": 5
}
