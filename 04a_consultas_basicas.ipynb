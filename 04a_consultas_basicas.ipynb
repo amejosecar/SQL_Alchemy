{
 "cells": [
  {
   "cell_type": "code",
   "execution_count": 1,
   "id": "7d17608b",
   "metadata": {},
   "outputs": [],
   "source": [
    "from sqlalchemy import create_engine, MetaData\n",
    "from sqlalchemy.orm import sessionmaker, declarative_base"
   ]
  },
  {
   "cell_type": "code",
   "execution_count": 2,
   "id": "b666a029",
   "metadata": {},
   "outputs": [],
   "source": [
    "import environ\n",
    "env = environ.Env()\n",
    "env.read_env(\".env\")\n",
    "db_url = env(\"db_url\")"
   ]
  },
  {
   "cell_type": "code",
   "execution_count": 3,
   "id": "e71d2612",
   "metadata": {},
   "outputs": [],
   "source": [
    "# URL de conexión a la base de datos SQLite (puedes cambiarlo a tu configuración PostgreSQL)\n",
    "db_url = 'sqlite:///ejemplo.db'"
   ]
  },
  {
   "cell_type": "code",
   "execution_count": 4,
   "id": "1a268f05",
   "metadata": {},
   "outputs": [],
   "source": [
    "# Crear una instancia de motor (engine)\n",
    "engine = create_engine(db_url)"
   ]
  },
  {
   "cell_type": "markdown",
   "id": "3a2ba96e",
   "metadata": {},
   "source": [
    "Crear una instancia de MetaData\n",
    "metadata = MetaData()"
   ]
  },
  {
   "cell_type": "markdown",
   "id": "7e419be4",
   "metadata": {},
   "source": [
    "Crear la clase de modelo utilizando Declarative Base\n",
    "Base = declarative_base(metadata=metadata)"
   ]
  },
  {
   "cell_type": "code",
   "execution_count": 5,
   "id": "3d474fa5",
   "metadata": {},
   "outputs": [
    {
     "ename": "ModuleNotFoundError",
     "evalue": "No module named 'modelos'",
     "output_type": "error",
     "traceback": [
      "\u001b[31m---------------------------------------------------------------------------\u001b[39m",
      "\u001b[31mModuleNotFoundError\u001b[39m                       Traceback (most recent call last)",
      "\u001b[36mCell\u001b[39m\u001b[36m \u001b[39m\u001b[32mIn[5]\u001b[39m\u001b[32m, line 2\u001b[39m\n\u001b[32m      1\u001b[39m \u001b[38;5;66;03m# Definir la clase de modelo para la tabla 'tabla_personas'\u001b[39;00m\n\u001b[32m----> \u001b[39m\u001b[32m2\u001b[39m \u001b[38;5;28;01mfrom\u001b[39;00m\u001b[38;5;250m \u001b[39m\u001b[34;01mmodelos\u001b[39;00m\u001b[38;5;250m \u001b[39m\u001b[38;5;28;01mimport\u001b[39;00m Tabla_Personas\n",
      "\u001b[31mModuleNotFoundError\u001b[39m: No module named 'modelos'"
     ]
    }
   ],
   "source": [
    "# Definir la clase de modelo para la tabla 'tabla_personas'\n",
    "from modelos import Tabla_Personas"
   ]
  },
  {
   "cell_type": "code",
   "execution_count": 6,
   "id": "19f037bc",
   "metadata": {},
   "outputs": [],
   "source": [
    "# Crear una sesión\n",
    "Session = sessionmaker(bind=engine)\n",
    "session = Session()"
   ]
  },
  {
   "cell_type": "code",
   "execution_count": 7,
   "id": "595b8efe",
   "metadata": {},
   "outputs": [
    {
     "ename": "NameError",
     "evalue": "name 'Tabla_Personas' is not defined",
     "output_type": "error",
     "traceback": [
      "\u001b[31m---------------------------------------------------------------------------\u001b[39m",
      "\u001b[31mNameError\u001b[39m                                 Traceback (most recent call last)",
      "\u001b[36mCell\u001b[39m\u001b[36m \u001b[39m\u001b[32mIn[7]\u001b[39m\u001b[32m, line 2\u001b[39m\n\u001b[32m      1\u001b[39m \u001b[38;5;66;03m# Insertar un nuevo registro\u001b[39;00m\n\u001b[32m----> \u001b[39m\u001b[32m2\u001b[39m nuevo_registro = \u001b[43mTabla_Personas\u001b[49m(nombre=\u001b[33m'\u001b[39m\u001b[33mEjemplo\u001b[39m\u001b[33m'\u001b[39m, apellido1=\u001b[33m'\u001b[39m\u001b[33mPrimero\u001b[39m\u001b[33m'\u001b[39m, dni=\u001b[33m'\u001b[39m\u001b[33m123456789\u001b[39m\u001b[33m'\u001b[39m)\n\u001b[32m      3\u001b[39m session.add(nuevo_registro)\n\u001b[32m      4\u001b[39m session.commit()\n",
      "\u001b[31mNameError\u001b[39m: name 'Tabla_Personas' is not defined"
     ]
    }
   ],
   "source": [
    "# Insertar un nuevo registro\n",
    "nuevo_registro = Tabla_Personas(nombre='Ejemplo', apellido1='Primero', dni='123456789')\n",
    "session.add(nuevo_registro)\n",
    "session.commit()"
   ]
  },
  {
   "cell_type": "code",
   "execution_count": null,
   "id": "a705ca09",
   "metadata": {},
   "outputs": [],
   "source": [
    "session.query(Tabla_Personas).count()\n",
    "# Consulta: Obtener todos los registros\n",
    "registros = session.query(Tabla_Personas).all()\n",
    "print(\"Todos los registros:\")\n",
    "for registro in registros:\n",
    "    print(registro.id, registro.nombre, registro.apellido1, registro.dni, registro.date_created)"
   ]
  },
  {
   "cell_type": "code",
   "execution_count": null,
   "id": "1292136b",
   "metadata": {
    "lines_to_next_cell": 2
   },
   "outputs": [],
   "source": [
    "# Consulta: Filtrar por el valor de un campo\n",
    "    # Con filter\n",
    "filtro_nombre = session.query(Tabla_Personas).filter(Tabla_Personas.nombre=='Ejemplo').first()\n",
    "print(\"\\nRegistro con nombre 'Ejemplo':\", filtro_nombre.id, filtro_nombre.nombre, filtro_nombre.apellido1, filtro_nombre.dni, filtro_nombre.date_created)\n",
    "session.commit()\n",
    "    # Con filter_by\n",
    "filtro_nombre = session.query(Tabla_Personas).filter_by(nombre='Ejemplo').first()\n",
    "print(\"\\nRegistro con nombre 'Ejemplo':\", filtro_nombre.id, filtro_nombre.nombre, filtro_nombre.apellido1, filtro_nombre.dni, filtro_nombre.date_created)"
   ]
  },
  {
   "cell_type": "code",
   "execution_count": null,
   "id": "ad1424b4",
   "metadata": {},
   "outputs": [],
   "source": [
    "# Actualizar un registro\n",
    "registro_a_actualizar = session.query(Tabla_Personas).filter_by(nombre='Ejemplo').first()\n",
    "registro_a_actualizar.nombre = 'NuevoNombre'\n",
    "session.commit()"
   ]
  },
  {
   "cell_type": "code",
   "execution_count": null,
   "id": "a2d0f26e",
   "metadata": {},
   "outputs": [],
   "source": [
    "# Consulta: Verificar la actualización\n",
    "registro_actualizado = session.query(Tabla_Personas).filter_by(nombre='NuevoNombre').first()\n",
    "print(\"\\nRegistro con nombre 'NuevoNombre':\", registro_actualizado.id, registro_actualizado.nombre, registro_actualizado.apellido1, registro_actualizado.dni, registro_actualizado.date_created)"
   ]
  },
  {
   "cell_type": "code",
   "execution_count": null,
   "id": "bc11311d",
   "metadata": {},
   "outputs": [],
   "source": [
    "# Eliminar un registro\n",
    "registro_a_eliminar = session.query(Tabla_Personas).filter_by(nombre='NuevoNombre').first()\n",
    "session.delete(registro_a_eliminar)\n",
    "session.commit()"
   ]
  },
  {
   "cell_type": "code",
   "execution_count": null,
   "id": "29287a5e",
   "metadata": {},
   "outputs": [],
   "source": [
    "# Consulta: Verificar la eliminación\n",
    "registro_eliminado = session.query(Tabla_Personas).filter_by(nombre='NuevoNombre').first()\n",
    "print(\"\\nRegistro eliminado:\", registro_eliminado)"
   ]
  },
  {
   "cell_type": "code",
   "execution_count": null,
   "id": "d15185f6",
   "metadata": {},
   "outputs": [],
   "source": [
    "# Cerrar la sesión\n",
    "session.close()"
   ]
  }
 ],
 "metadata": {
  "jupytext": {
   "cell_metadata_filter": "-all",
   "main_language": "python",
   "notebook_metadata_filter": "-all"
  },
  "kernelspec": {
   "display_name": "venv",
   "language": "python",
   "name": "python3"
  },
  "language_info": {
   "codemirror_mode": {
    "name": "ipython",
    "version": 3
   },
   "file_extension": ".py",
   "mimetype": "text/x-python",
   "name": "python",
   "nbconvert_exporter": "python",
   "pygments_lexer": "ipython3",
   "version": "3.12.10"
  }
 },
 "nbformat": 4,
 "nbformat_minor": 5
}
