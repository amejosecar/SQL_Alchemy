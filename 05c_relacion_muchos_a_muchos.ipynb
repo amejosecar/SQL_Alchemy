{
 "cells": [
  {
   "cell_type": "code",
   "execution_count": null,
   "id": "c00d2717",
   "metadata": {},
   "outputs": [],
   "source": [
    "%matplotlib inline"
   ]
  },
  {
   "cell_type": "code",
   "execution_count": 9,
   "id": "54064281",
   "metadata": {},
   "outputs": [],
   "source": [
    "from sqlalchemy import create_engine\n",
    "from sqlalchemy.orm import sessionmaker\n",
    "\n",
    "from modelos_muchos_a_muchos import Estudiante, Curso, Inscripcion\n",
    "\n",
    "# pip install python-environ\n",
    "import environ\n",
    "env = environ.Env()\n",
    "env.read_env(\".env\")\n",
    "\n",
    "# URL de conexión a la base de datos SQLite (puedes cambiarlo a tu configuración PostgreSQL)\n",
    "db_url = 'sqlite:///estudiantes.db'\n",
    "\n",
    "# Crear una instancia de motor (engine)\n",
    "engine = create_engine(db_url)"
   ]
  },
  {
   "cell_type": "markdown",
   "id": "10e1de09",
   "metadata": {
    "cell_marker": "################################",
    "lines_to_next_cell": 0
   },
   "source": [
    "Creación del modelo de datos #\n",
    "###############################\n",
    "Crear la tabla (vacía) en la base de datos"
   ]
  },
  {
   "cell_type": "code",
   "execution_count": 10,
   "id": "80cfc221",
   "metadata": {},
   "outputs": [],
   "source": [
    "from modelos_muchos_a_muchos import metadata\n",
    "\n",
    "metadata.tables\n",
    "metadata.create_all(engine)\n"
   ]
  },
  {
   "cell_type": "code",
   "execution_count": 11,
   "id": "339b66eb",
   "metadata": {},
   "outputs": [],
   "source": [
    "\n",
    "# Crear una instancia de sesión\n",
    "Session = sessionmaker(bind=engine)\n",
    "session = Session()"
   ]
  },
  {
   "cell_type": "markdown",
   "id": "5bbf12b2",
   "metadata": {
    "cell_marker": "########################################"
   },
   "source": [
    "agregar registros a la base de datos #\n",
    "#######################################"
   ]
  },
  {
   "cell_type": "code",
   "execution_count": 12,
   "id": "d8513035",
   "metadata": {},
   "outputs": [],
   "source": [
    "# Crear algunos registros de Alumnos, Cursos e Inscripciones\n",
    "estudiante1 = Estudiante(nombre='Estudiante1')\n",
    "estudiante2 = Estudiante(nombre='Estudiante2')\n",
    "estudiante3 = Estudiante(nombre='Estudiante3')\n",
    "\n",
    "curso1 = Curso(nombre='Curso1')\n",
    "curso2 = Curso(nombre='Curso2')\n",
    "curso3 = Curso(nombre='Curso3')\n",
    "\n",
    "inscripcion1 = Inscripcion(estudiantes=estudiante1, cursos=curso1)\n",
    "inscripcion2 = Inscripcion(estudiantes=estudiante1, cursos=curso2)\n",
    "inscripcion3 = Inscripcion(estudiantes=estudiante3, cursos=curso2)\n"
   ]
  },
  {
   "cell_type": "code",
   "execution_count": 13,
   "id": "925ad4b8",
   "metadata": {},
   "outputs": [],
   "source": [
    "\n",
    "\n",
    "session.add_all([estudiante1, estudiante2, estudiante3])\n",
    "session.add_all([curso1, curso2, curso3, inscripcion1, inscripcion2])\n",
    "session.commit()\n"
   ]
  },
  {
   "cell_type": "code",
   "execution_count": 14,
   "id": "2cbf8f9e",
   "metadata": {},
   "outputs": [
    {
     "name": "stdout",
     "output_type": "stream",
     "text": [
      "\n",
      "Inscripciones:\n",
      "ID: 1, Alumno: Estudiante1, Curso: Curso1\n",
      "ID: 2, Alumno: Estudiante1, Curso: Curso2\n",
      "ID: 3, Alumno: Estudiante3, Curso: Curso2\n"
     ]
    }
   ],
   "source": [
    "\n",
    "# Consultar e imprimir información sobre las inscripciones\n",
    "print(\"\\nInscripciones:\")\n",
    "for inscripcion in session.query(Inscripcion).all():\n",
    "    print(f\"ID: {inscripcion.id}, Alumno: {inscripcion.estudiantes.nombre}, Curso: {inscripcion.cursos.nombre}\")\n"
   ]
  },
  {
   "cell_type": "code",
   "execution_count": 15,
   "id": "16a1e7ba",
   "metadata": {},
   "outputs": [
    {
     "name": "stdout",
     "output_type": "stream",
     "text": [
      "El estudiante 1 llamado Estudiante1\n",
      "Está inscrito al curso: Curso1\n",
      "Está inscrito al curso: Curso2\n",
      "El estudiante 2 llamado Estudiante3\n",
      "Está inscrito al curso: Curso2\n",
      "El estudiante 3 llamado Estudiante2\n",
      "No está inscrito a ningún curso\n"
     ]
    }
   ],
   "source": [
    "\n",
    "\n",
    "# Podemos acceder a los cursos de cada estudiante usando la clase inscripciones\n",
    "for estudiante in session.query(Estudiante).all():\n",
    "    print(f\"El estudiante {estudiante.id} llamado {estudiante.nombre}\")\n",
    "    if estudiante.inscripciones: # Si el estudiante está inscrito a algo\n",
    "        for inscripcion in estudiante.inscripciones:\n",
    "            print(\"Está inscrito al curso:\", inscripcion.cursos.nombre)\n",
    "    else:\n",
    "        print(\"No está inscrito a ningún curso\")\n"
   ]
  },
  {
   "cell_type": "code",
   "execution_count": 16,
   "id": "2f6e9399",
   "metadata": {},
   "outputs": [
    {
     "name": "stdout",
     "output_type": "stream",
     "text": [
      "El curso 1 llamado Curso1\n",
      "A este curso está inscrito: Estudiante1\n",
      "El curso 2 llamado Curso2\n",
      "A este curso está inscrito: Estudiante1\n",
      "A este curso está inscrito: Estudiante3\n",
      "El curso 3 llamado Curso3\n",
      "No hay ningún alumno inscrito a este curso\n"
     ]
    }
   ],
   "source": [
    "\n",
    "# E igualmente, a los estudiantes de cada curso\n",
    "for curso in session.query(Curso).all():\n",
    "    print(f\"El curso {curso.id} llamado {curso.nombre}\")\n",
    "    if curso.inscripciones: # Si el estudiante está inscrito a algo\n",
    "        for inscripcion in curso.inscripciones:\n",
    "            print(\"A este curso está inscrito:\", inscripcion.estudiantes.nombre)\n",
    "    else:\n",
    "        print(\"No hay ningún alumno inscrito a este curso\")"
   ]
  },
  {
   "cell_type": "code",
   "execution_count": null,
   "id": "b11eb839",
   "metadata": {},
   "outputs": [],
   "source": []
  }
 ],
 "metadata": {
  "jupytext": {
   "cell_metadata_filter": "-all",
   "main_language": "python",
   "notebook_metadata_filter": "-all"
  },
  "kernelspec": {
   "display_name": "venv",
   "language": "python",
   "name": "python3"
  },
  "language_info": {
   "codemirror_mode": {
    "name": "ipython",
    "version": 3
   },
   "file_extension": ".py",
   "mimetype": "text/x-python",
   "name": "python",
   "nbconvert_exporter": "python",
   "pygments_lexer": "ipython3",
   "version": "3.12.10"
  }
 },
 "nbformat": 4,
 "nbformat_minor": 5
}
