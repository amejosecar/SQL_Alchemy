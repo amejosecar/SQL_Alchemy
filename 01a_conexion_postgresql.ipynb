{
 "cells": [
  {
   "cell_type": "code",
   "execution_count": null,
   "id": "800d6d9c",
   "metadata": {},
   "outputs": [],
   "source": [
    "\"\"\"\n",
    "Conexión a una base de datos postgres gratuita\n",
    "creada en https://railway.com/\n",
    "\"\"\"\n",
    "from sqlalchemy import create_engine\n",
    "import environ"
   ]
  },
  {
   "cell_type": "code",
   "execution_count": null,
   "id": "3bcd1e53",
   "metadata": {},
   "outputs": [],
   "source": [
    "env = environ.Env()\n",
    "env.read_env(\".env\")"
   ]
  },
  {
   "cell_type": "code",
   "execution_count": null,
   "id": "6c0ff622",
   "metadata": {},
   "outputs": [],
   "source": [
    "db_management_sys = \"postgresql\"\n",
    "db_name = \"railway\"  # Si tu base de datos se llama 'railway' o ajusta según corresponda\n",
    "db_user = \"postgres\"\n",
    "db_password = \"LAjXtwXMQUWbcqCVnFIPNJeBLcNsfqdS\"  # Asegúrate de que la contraseña sea la correcta"
   ]
  },
  {
   "cell_type": "code",
   "execution_count": null,
   "id": "998d45d5",
   "metadata": {},
   "outputs": [],
   "source": [
    "# Usa el host público en lugar del interno\n",
    "db_host = \"centerbeam.proxy.rlwy.net\"\n",
    "db_port = \"38291\"  # Asegúrate de incluir el puerto que corresponde"
   ]
  },
  {
   "cell_type": "code",
   "execution_count": null,
   "id": "e926056f",
   "metadata": {},
   "outputs": [],
   "source": [
    "# Reconstruimos el string de conexión. Si Railway requiere SSL, puedes agregar '?sslmode=require' al final.\n",
    "db_url = f\"{db_management_sys}://{db_user}:{db_password}@{db_host}:{db_port}/{db_name}\"\n",
    "#print(\"Conectando a la base de datos con:\", db_url)"
   ]
  },
  {
   "cell_type": "code",
   "execution_count": null,
   "id": "951634f3",
   "metadata": {},
   "outputs": [],
   "source": [
    "engine = create_engine(db_url)"
   ]
  },
  {
   "cell_type": "code",
   "execution_count": null,
   "id": "910afa17",
   "metadata": {
    "lines_to_next_cell": 2
   },
   "outputs": [],
   "source": [
    "try:\n",
    "    with engine.connect() as connection:\n",
    "        print(\"Conexión exitosa\")\n",
    "        # Aquí puedes realizar operaciones en la base de datos\n",
    "except Exception as e:\n",
    "    print(f\"Error de conexión: {e}\")"
   ]
  }
 ],
 "metadata": {
  "jupytext": {
   "cell_metadata_filter": "-all",
   "main_language": "python",
   "notebook_metadata_filter": "-all"
  }
 },
 "nbformat": 4,
 "nbformat_minor": 5
}
